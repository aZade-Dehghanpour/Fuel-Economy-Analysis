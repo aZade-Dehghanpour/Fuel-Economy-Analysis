{
 "cells": [
  {
   "cell_type": "markdown",
   "metadata": {},
   "source": [
    "# Fuel Economy Analysis for Years 2008 and 2018"
   ]
  },
  {
   "cell_type": "markdown",
   "metadata": {},
   "source": [
    "**Fuel Economy in Automobiles:**<br>\n",
    "The fuel economy of an automobile is the fuel efficiency relationship between the distance traveled and the amount of fuel consumed by the vehicle. Consumption can be expressed in terms of volume of fuel to travel a distance, or the distance travelled per unit volume of fuel consumed.\n",
    "\n",
    "Info on datasets and key words are available in files ```Data Description.txt``` and ```Green Vehicle Guide Documentation.pdf``` at ```Datasets/Info```."
   ]
  },
  {
   "cell_type": "code",
   "execution_count": 1,
   "metadata": {},
   "outputs": [],
   "source": [
    "import pandas as pd\n",
    "import numpy as np\n",
    "\n",
    "\n",
    "data08_path = '../../Datasets/data08.csv'\n",
    "data18_path = '../../Datasets/data18.csv'\n",
    "\n",
    "df_08 = pd.read_csv(data08_path)\n",
    "df_18 = pd.read_csv(data18_path)"
   ]
  },
  {
   "cell_type": "code",
   "execution_count": 2,
   "metadata": {},
   "outputs": [
    {
     "data": {
      "text/html": [
       "<div>\n",
       "<style scoped>\n",
       "    .dataframe tbody tr th:only-of-type {\n",
       "        vertical-align: middle;\n",
       "    }\n",
       "\n",
       "    .dataframe tbody tr th {\n",
       "        vertical-align: top;\n",
       "    }\n",
       "\n",
       "    .dataframe thead th {\n",
       "        text-align: right;\n",
       "    }\n",
       "</style>\n",
       "<table border=\"1\" class=\"dataframe\">\n",
       "  <thead>\n",
       "    <tr style=\"text-align: right;\">\n",
       "      <th></th>\n",
       "      <th>Model</th>\n",
       "      <th>Displ</th>\n",
       "      <th>Cyl</th>\n",
       "      <th>Trans</th>\n",
       "      <th>Drive</th>\n",
       "      <th>Fuel</th>\n",
       "      <th>Sales Area</th>\n",
       "      <th>Stnd</th>\n",
       "      <th>Underhood ID</th>\n",
       "      <th>Veh Class</th>\n",
       "      <th>Air Pollution Score</th>\n",
       "      <th>FE Calc Appr</th>\n",
       "      <th>City MPG</th>\n",
       "      <th>Hwy MPG</th>\n",
       "      <th>Cmb MPG</th>\n",
       "      <th>Unadj Cmb MPG</th>\n",
       "      <th>Greenhouse Gas Score</th>\n",
       "      <th>SmartWay</th>\n",
       "    </tr>\n",
       "  </thead>\n",
       "  <tbody>\n",
       "    <tr>\n",
       "      <th>0</th>\n",
       "      <td>ACURA MDX</td>\n",
       "      <td>3.7</td>\n",
       "      <td>(6 cyl)</td>\n",
       "      <td>Auto-S5</td>\n",
       "      <td>4WD</td>\n",
       "      <td>Gasoline</td>\n",
       "      <td>CA</td>\n",
       "      <td>U2</td>\n",
       "      <td>8HNXT03.7PKR</td>\n",
       "      <td>SUV</td>\n",
       "      <td>7</td>\n",
       "      <td>Drv</td>\n",
       "      <td>15</td>\n",
       "      <td>20</td>\n",
       "      <td>17</td>\n",
       "      <td>22.0527</td>\n",
       "      <td>4</td>\n",
       "      <td>no</td>\n",
       "    </tr>\n",
       "    <tr>\n",
       "      <th>1</th>\n",
       "      <td>ACURA MDX</td>\n",
       "      <td>3.7</td>\n",
       "      <td>(6 cyl)</td>\n",
       "      <td>Auto-S5</td>\n",
       "      <td>4WD</td>\n",
       "      <td>Gasoline</td>\n",
       "      <td>FA</td>\n",
       "      <td>B5</td>\n",
       "      <td>8HNXT03.7PKR</td>\n",
       "      <td>SUV</td>\n",
       "      <td>6</td>\n",
       "      <td>Drv</td>\n",
       "      <td>15</td>\n",
       "      <td>20</td>\n",
       "      <td>17</td>\n",
       "      <td>22.0527</td>\n",
       "      <td>4</td>\n",
       "      <td>no</td>\n",
       "    </tr>\n",
       "    <tr>\n",
       "      <th>2</th>\n",
       "      <td>ACURA RDX</td>\n",
       "      <td>2.3</td>\n",
       "      <td>(4 cyl)</td>\n",
       "      <td>Auto-S5</td>\n",
       "      <td>4WD</td>\n",
       "      <td>Gasoline</td>\n",
       "      <td>CA</td>\n",
       "      <td>U2</td>\n",
       "      <td>8HNXT02.3DKR</td>\n",
       "      <td>SUV</td>\n",
       "      <td>7</td>\n",
       "      <td>Drv</td>\n",
       "      <td>17</td>\n",
       "      <td>22</td>\n",
       "      <td>19</td>\n",
       "      <td>24.1745</td>\n",
       "      <td>5</td>\n",
       "      <td>no</td>\n",
       "    </tr>\n",
       "    <tr>\n",
       "      <th>3</th>\n",
       "      <td>ACURA RDX</td>\n",
       "      <td>2.3</td>\n",
       "      <td>(4 cyl)</td>\n",
       "      <td>Auto-S5</td>\n",
       "      <td>4WD</td>\n",
       "      <td>Gasoline</td>\n",
       "      <td>FA</td>\n",
       "      <td>B5</td>\n",
       "      <td>8HNXT02.3DKR</td>\n",
       "      <td>SUV</td>\n",
       "      <td>6</td>\n",
       "      <td>Drv</td>\n",
       "      <td>17</td>\n",
       "      <td>22</td>\n",
       "      <td>19</td>\n",
       "      <td>24.1745</td>\n",
       "      <td>5</td>\n",
       "      <td>no</td>\n",
       "    </tr>\n",
       "    <tr>\n",
       "      <th>4</th>\n",
       "      <td>ACURA RL</td>\n",
       "      <td>3.5</td>\n",
       "      <td>(6 cyl)</td>\n",
       "      <td>Auto-S5</td>\n",
       "      <td>4WD</td>\n",
       "      <td>Gasoline</td>\n",
       "      <td>CA</td>\n",
       "      <td>U2</td>\n",
       "      <td>8HNXV03.5HKR</td>\n",
       "      <td>midsize car</td>\n",
       "      <td>7</td>\n",
       "      <td>Drv</td>\n",
       "      <td>16</td>\n",
       "      <td>24</td>\n",
       "      <td>19</td>\n",
       "      <td>24.5629</td>\n",
       "      <td>5</td>\n",
       "      <td>no</td>\n",
       "    </tr>\n",
       "  </tbody>\n",
       "</table>\n",
       "</div>"
      ],
      "text/plain": [
       "       Model  Displ      Cyl    Trans Drive      Fuel Sales Area Stnd  \\\n",
       "0  ACURA MDX    3.7  (6 cyl)  Auto-S5   4WD  Gasoline         CA   U2   \n",
       "1  ACURA MDX    3.7  (6 cyl)  Auto-S5   4WD  Gasoline         FA   B5   \n",
       "2  ACURA RDX    2.3  (4 cyl)  Auto-S5   4WD  Gasoline         CA   U2   \n",
       "3  ACURA RDX    2.3  (4 cyl)  Auto-S5   4WD  Gasoline         FA   B5   \n",
       "4   ACURA RL    3.5  (6 cyl)  Auto-S5   4WD  Gasoline         CA   U2   \n",
       "\n",
       "   Underhood ID    Veh Class Air Pollution Score FE Calc Appr City MPG  \\\n",
       "0  8HNXT03.7PKR          SUV                   7          Drv       15   \n",
       "1  8HNXT03.7PKR          SUV                   6          Drv       15   \n",
       "2  8HNXT02.3DKR          SUV                   7          Drv       17   \n",
       "3  8HNXT02.3DKR          SUV                   6          Drv       17   \n",
       "4  8HNXV03.5HKR  midsize car                   7          Drv       16   \n",
       "\n",
       "  Hwy MPG Cmb MPG  Unadj Cmb MPG Greenhouse Gas Score SmartWay  \n",
       "0      20      17        22.0527                    4       no  \n",
       "1      20      17        22.0527                    4       no  \n",
       "2      22      19        24.1745                    5       no  \n",
       "3      22      19        24.1745                    5       no  \n",
       "4      24      19        24.5629                    5       no  "
      ]
     },
     "execution_count": 2,
     "metadata": {},
     "output_type": "execute_result"
    }
   ],
   "source": [
    "df_08.head()"
   ]
  },
  {
   "cell_type": "code",
   "execution_count": 3,
   "metadata": {},
   "outputs": [
    {
     "data": {
      "text/html": [
       "<div>\n",
       "<style scoped>\n",
       "    .dataframe tbody tr th:only-of-type {\n",
       "        vertical-align: middle;\n",
       "    }\n",
       "\n",
       "    .dataframe tbody tr th {\n",
       "        vertical-align: top;\n",
       "    }\n",
       "\n",
       "    .dataframe thead th {\n",
       "        text-align: right;\n",
       "    }\n",
       "</style>\n",
       "<table border=\"1\" class=\"dataframe\">\n",
       "  <thead>\n",
       "    <tr style=\"text-align: right;\">\n",
       "      <th></th>\n",
       "      <th>Model</th>\n",
       "      <th>Displ</th>\n",
       "      <th>Cyl</th>\n",
       "      <th>Trans</th>\n",
       "      <th>Drive</th>\n",
       "      <th>Fuel</th>\n",
       "      <th>Cert Region</th>\n",
       "      <th>Stnd</th>\n",
       "      <th>Stnd Description</th>\n",
       "      <th>Underhood ID</th>\n",
       "      <th>Veh Class</th>\n",
       "      <th>Air Pollution Score</th>\n",
       "      <th>City MPG</th>\n",
       "      <th>Hwy MPG</th>\n",
       "      <th>Cmb MPG</th>\n",
       "      <th>Greenhouse Gas Score</th>\n",
       "      <th>SmartWay</th>\n",
       "      <th>Comb CO2</th>\n",
       "    </tr>\n",
       "  </thead>\n",
       "  <tbody>\n",
       "    <tr>\n",
       "      <th>0</th>\n",
       "      <td>ACURA RDX</td>\n",
       "      <td>3.5</td>\n",
       "      <td>6.0</td>\n",
       "      <td>SemiAuto-6</td>\n",
       "      <td>2WD</td>\n",
       "      <td>Gasoline</td>\n",
       "      <td>FA</td>\n",
       "      <td>T3B125</td>\n",
       "      <td>Federal Tier 3 Bin 125</td>\n",
       "      <td>JHNXT03.5GV3</td>\n",
       "      <td>small SUV</td>\n",
       "      <td>3</td>\n",
       "      <td>20</td>\n",
       "      <td>28</td>\n",
       "      <td>23</td>\n",
       "      <td>5</td>\n",
       "      <td>No</td>\n",
       "      <td>386</td>\n",
       "    </tr>\n",
       "    <tr>\n",
       "      <th>1</th>\n",
       "      <td>ACURA RDX</td>\n",
       "      <td>3.5</td>\n",
       "      <td>6.0</td>\n",
       "      <td>SemiAuto-6</td>\n",
       "      <td>2WD</td>\n",
       "      <td>Gasoline</td>\n",
       "      <td>CA</td>\n",
       "      <td>U2</td>\n",
       "      <td>California LEV-II ULEV</td>\n",
       "      <td>JHNXT03.5GV3</td>\n",
       "      <td>small SUV</td>\n",
       "      <td>3</td>\n",
       "      <td>20</td>\n",
       "      <td>28</td>\n",
       "      <td>23</td>\n",
       "      <td>5</td>\n",
       "      <td>No</td>\n",
       "      <td>386</td>\n",
       "    </tr>\n",
       "    <tr>\n",
       "      <th>2</th>\n",
       "      <td>ACURA RDX</td>\n",
       "      <td>3.5</td>\n",
       "      <td>6.0</td>\n",
       "      <td>SemiAuto-6</td>\n",
       "      <td>4WD</td>\n",
       "      <td>Gasoline</td>\n",
       "      <td>FA</td>\n",
       "      <td>T3B125</td>\n",
       "      <td>Federal Tier 3 Bin 125</td>\n",
       "      <td>JHNXT03.5GV3</td>\n",
       "      <td>small SUV</td>\n",
       "      <td>3</td>\n",
       "      <td>19</td>\n",
       "      <td>27</td>\n",
       "      <td>22</td>\n",
       "      <td>4</td>\n",
       "      <td>No</td>\n",
       "      <td>402</td>\n",
       "    </tr>\n",
       "    <tr>\n",
       "      <th>3</th>\n",
       "      <td>ACURA RDX</td>\n",
       "      <td>3.5</td>\n",
       "      <td>6.0</td>\n",
       "      <td>SemiAuto-6</td>\n",
       "      <td>4WD</td>\n",
       "      <td>Gasoline</td>\n",
       "      <td>CA</td>\n",
       "      <td>U2</td>\n",
       "      <td>California LEV-II ULEV</td>\n",
       "      <td>JHNXT03.5GV3</td>\n",
       "      <td>small SUV</td>\n",
       "      <td>3</td>\n",
       "      <td>19</td>\n",
       "      <td>27</td>\n",
       "      <td>22</td>\n",
       "      <td>4</td>\n",
       "      <td>No</td>\n",
       "      <td>402</td>\n",
       "    </tr>\n",
       "    <tr>\n",
       "      <th>4</th>\n",
       "      <td>ACURA TLX</td>\n",
       "      <td>2.4</td>\n",
       "      <td>4.0</td>\n",
       "      <td>AMS-8</td>\n",
       "      <td>2WD</td>\n",
       "      <td>Gasoline</td>\n",
       "      <td>CA</td>\n",
       "      <td>L3ULEV125</td>\n",
       "      <td>California LEV-III ULEV125</td>\n",
       "      <td>JHNXV02.4WH3</td>\n",
       "      <td>small car</td>\n",
       "      <td>3</td>\n",
       "      <td>23</td>\n",
       "      <td>33</td>\n",
       "      <td>27</td>\n",
       "      <td>6</td>\n",
       "      <td>No</td>\n",
       "      <td>330</td>\n",
       "    </tr>\n",
       "  </tbody>\n",
       "</table>\n",
       "</div>"
      ],
      "text/plain": [
       "       Model  Displ  Cyl       Trans Drive      Fuel Cert Region       Stnd  \\\n",
       "0  ACURA RDX    3.5  6.0  SemiAuto-6   2WD  Gasoline          FA     T3B125   \n",
       "1  ACURA RDX    3.5  6.0  SemiAuto-6   2WD  Gasoline          CA         U2   \n",
       "2  ACURA RDX    3.5  6.0  SemiAuto-6   4WD  Gasoline          FA     T3B125   \n",
       "3  ACURA RDX    3.5  6.0  SemiAuto-6   4WD  Gasoline          CA         U2   \n",
       "4  ACURA TLX    2.4  4.0       AMS-8   2WD  Gasoline          CA  L3ULEV125   \n",
       "\n",
       "             Stnd Description  Underhood ID  Veh Class  Air Pollution Score  \\\n",
       "0      Federal Tier 3 Bin 125  JHNXT03.5GV3  small SUV                    3   \n",
       "1      California LEV-II ULEV  JHNXT03.5GV3  small SUV                    3   \n",
       "2      Federal Tier 3 Bin 125  JHNXT03.5GV3  small SUV                    3   \n",
       "3      California LEV-II ULEV  JHNXT03.5GV3  small SUV                    3   \n",
       "4  California LEV-III ULEV125  JHNXV02.4WH3  small car                    3   \n",
       "\n",
       "  City MPG Hwy MPG Cmb MPG  Greenhouse Gas Score SmartWay Comb CO2  \n",
       "0       20      28      23                     5       No      386  \n",
       "1       20      28      23                     5       No      386  \n",
       "2       19      27      22                     4       No      402  \n",
       "3       19      27      22                     4       No      402  \n",
       "4       23      33      27                     6       No      330  "
      ]
     },
     "execution_count": 3,
     "metadata": {},
     "output_type": "execute_result"
    }
   ],
   "source": [
    "df_18.head()"
   ]
  },
  {
   "cell_type": "markdown",
   "metadata": {},
   "source": [
    "**Unify and improve readablity of column names**"
   ]
  },
  {
   "cell_type": "code",
   "execution_count": 4,
   "metadata": {},
   "outputs": [],
   "source": [
    "df_08.columns = df_08.columns.str.replace(' ','_').str.lower().str.strip()\n",
    "#or using lambda:\n",
    "#df_08.rename(columns=lambda x: x.strip().lower().replace(\" \", \"_\"), inplace=True)\n",
    "\n",
    "df_18.columns = df_18.columns.str.replace(' ','_').str.lower().str.strip()"
   ]
  },
  {
   "cell_type": "markdown",
   "metadata": {},
   "source": [
    "## Assessing Data\n",
    "**Explore these datasets to answer the questions below about the characteristics of the data:**<br>\n",
    "number of samples in each dataset<br>\n",
    "number of columns in each dataset<br>\n",
    "duplicate rows in each dataset<br>\n",
    "datatypes of columns<br>\n",
    "features with missing values<br>\n",
    "number of non-null unique values for features in each dataset<br>\n",
    "what those unique values are and counts for each<br>\n"
   ]
  },
  {
   "cell_type": "markdown",
   "metadata": {},
   "source": [
    "**Number of samples in each dataset**"
   ]
  },
  {
   "cell_type": "code",
   "execution_count": 5,
   "metadata": {},
   "outputs": [
    {
     "name": "stdout",
     "output_type": "stream",
     "text": [
      "There are 2404 records in 2008 datase\n",
      "There are 1611 records in 2018 datase\n"
     ]
    }
   ],
   "source": [
    "record_count_08 = df_08.shape[0]\n",
    "record_count_18 = df_18.shape[0]\n",
    "print(\"There are {} records in 2008 datase\".format(record_count_08))\n",
    "print(\"There are {} records in 2018 datase\".format(record_count_18))"
   ]
  },
  {
   "cell_type": "markdown",
   "metadata": {},
   "source": [
    "**Number of columns in each dataset**"
   ]
  },
  {
   "cell_type": "code",
   "execution_count": 6,
   "metadata": {},
   "outputs": [
    {
     "name": "stdout",
     "output_type": "stream",
     "text": [
      "There are 18 columns in 2008 datase\n",
      "There are 18 columns in 2018 datase\n"
     ]
    }
   ],
   "source": [
    "column_count_08 = df_08.shape[1]\n",
    "column_count_18 = df_18.shape[1]\n",
    "print(\"There are {} columns in 2008 datase\".format(column_count_08))\n",
    "print(\"There are {} columns in 2018 datase\".format(column_count_18))"
   ]
  },
  {
   "cell_type": "markdown",
   "metadata": {},
   "source": [
    "**Duplicate rows in each dataset**"
   ]
  },
  {
   "cell_type": "code",
   "execution_count": 7,
   "metadata": {},
   "outputs": [
    {
     "name": "stdout",
     "output_type": "stream",
     "text": [
      "There are 25 duplicate records in 2008 dataset which can be found at the following row numbers:\n",
      "[752, 754, 769, 771, 773, 775, 794, 797, 800, 958, 960, 1000, 1001, 1006, 1007, 1015, 1019, 1021, 1023, 1026, 1027, 1030, 1033, 1034, 1037]\n",
      "\n",
      "There are 0 duplicate records in 2018 dataset\n"
     ]
    }
   ],
   "source": [
    "duplicate_records_count_08 = df_08.duplicated().sum()\n",
    "duplicate_records_index_08 = df_08[df_08.duplicated()].index\n",
    "print(\"There are {} duplicate records in 2008 dataset which can be found at the following row numbers:\\n{}\\n\".format(duplicate_records_count_08, list(duplicate_records_index_08)))\n",
    "duplicate_records_count_18 = df_18.duplicated().sum()\n",
    "duplicate_records_index_18 = df_18[df_18.duplicated()].index\n",
    "print(\"There are {} duplicate records in 2018 dataset\".format(duplicate_records_count_18))"
   ]
  },
  {
   "cell_type": "markdown",
   "metadata": {},
   "source": [
    "**Datatypes of columns**"
   ]
  },
  {
   "cell_type": "code",
   "execution_count": 8,
   "metadata": {},
   "outputs": [
    {
     "name": "stdout",
     "output_type": "stream",
     "text": [
      "<class 'pandas.core.frame.DataFrame'>\n",
      "RangeIndex: 2404 entries, 0 to 2403\n",
      "Data columns (total 18 columns):\n",
      " #   Column                Non-Null Count  Dtype  \n",
      "---  ------                --------------  -----  \n",
      " 0   model                 2404 non-null   object \n",
      " 1   displ                 2404 non-null   float64\n",
      " 2   cyl                   2205 non-null   object \n",
      " 3   trans                 2205 non-null   object \n",
      " 4   drive                 2311 non-null   object \n",
      " 5   fuel                  2404 non-null   object \n",
      " 6   sales_area            2404 non-null   object \n",
      " 7   stnd                  2404 non-null   object \n",
      " 8   underhood_id          2404 non-null   object \n",
      " 9   veh_class             2404 non-null   object \n",
      " 10  air_pollution_score   2404 non-null   object \n",
      " 11  fe_calc_appr          2205 non-null   object \n",
      " 12  city_mpg              2205 non-null   object \n",
      " 13  hwy_mpg               2205 non-null   object \n",
      " 14  cmb_mpg               2205 non-null   object \n",
      " 15  unadj_cmb_mpg         2205 non-null   float64\n",
      " 16  greenhouse_gas_score  2205 non-null   object \n",
      " 17  smartway              2404 non-null   object \n",
      "dtypes: float64(2), object(16)\n",
      "memory usage: 338.2+ KB\n"
     ]
    }
   ],
   "source": [
    "df_08.info()"
   ]
  },
  {
   "cell_type": "code",
   "execution_count": 9,
   "metadata": {},
   "outputs": [
    {
     "name": "stdout",
     "output_type": "stream",
     "text": [
      "<class 'pandas.core.frame.DataFrame'>\n",
      "RangeIndex: 1611 entries, 0 to 1610\n",
      "Data columns (total 18 columns):\n",
      " #   Column                Non-Null Count  Dtype  \n",
      "---  ------                --------------  -----  \n",
      " 0   model                 1611 non-null   object \n",
      " 1   displ                 1609 non-null   float64\n",
      " 2   cyl                   1609 non-null   float64\n",
      " 3   trans                 1611 non-null   object \n",
      " 4   drive                 1611 non-null   object \n",
      " 5   fuel                  1611 non-null   object \n",
      " 6   cert_region           1611 non-null   object \n",
      " 7   stnd                  1611 non-null   object \n",
      " 8   stnd_description      1611 non-null   object \n",
      " 9   underhood_id          1611 non-null   object \n",
      " 10  veh_class             1611 non-null   object \n",
      " 11  air_pollution_score   1611 non-null   int64  \n",
      " 12  city_mpg              1611 non-null   object \n",
      " 13  hwy_mpg               1611 non-null   object \n",
      " 14  cmb_mpg               1611 non-null   object \n",
      " 15  greenhouse_gas_score  1611 non-null   int64  \n",
      " 16  smartway              1611 non-null   object \n",
      " 17  comb_co2              1611 non-null   object \n",
      "dtypes: float64(2), int64(2), object(14)\n",
      "memory usage: 226.7+ KB\n"
     ]
    }
   ],
   "source": [
    "df_18.info()"
   ]
  },
  {
   "cell_type": "markdown",
   "metadata": {},
   "source": [
    "**Features with missing values**"
   ]
  },
  {
   "cell_type": "code",
   "execution_count": 10,
   "metadata": {},
   "outputs": [
    {
     "name": "stdout",
     "output_type": "stream",
     "text": [
      "In 2008 dataset the are missing values in columns below:\n",
      "['cyl', 'trans', 'drive', 'fe_calc_appr', 'city_mpg', 'hwy_mpg', 'cmb_mpg', 'unadj_cmb_mpg', 'greenhouse_gas_score']\n",
      "\n",
      "In 2018 dataset the are missing values in columns below:\n",
      "['displ', 'cyl']\n"
     ]
    }
   ],
   "source": [
    "features_with_missing_values_08 = list(df_08.columns[df_08.isna().any()])\n",
    "features_with_missing_values_18 = list(df_18.columns[df_18.isna().any()])\n",
    "print(\"In 2008 dataset the are missing values in columns below:\\n{}\\n\".format(features_with_missing_values_08))\n",
    "print(\"In 2018 dataset the are missing values in columns below:\\n{}\".format(features_with_missing_values_18))"
   ]
  },
  {
   "cell_type": "markdown",
   "metadata": {},
   "source": [
    "**Number of non-null unique values for features in each dataset**"
   ]
  },
  {
   "cell_type": "code",
   "execution_count": 11,
   "metadata": {},
   "outputs": [
    {
     "data": {
      "text/plain": [
       "model                   436\n",
       "displ                    47\n",
       "cyl                       8\n",
       "trans                    14\n",
       "drive                     2\n",
       "fuel                      5\n",
       "sales_area                3\n",
       "stnd                     12\n",
       "underhood_id            343\n",
       "veh_class                 9\n",
       "air_pollution_score      13\n",
       "fe_calc_appr              2\n",
       "city_mpg                 39\n",
       "hwy_mpg                  43\n",
       "cmb_mpg                  38\n",
       "unadj_cmb_mpg           721\n",
       "greenhouse_gas_score     20\n",
       "smartway                  2\n",
       "dtype: int64"
      ]
     },
     "execution_count": 11,
     "metadata": {},
     "output_type": "execute_result"
    }
   ],
   "source": [
    "df_08.nunique()"
   ]
  },
  {
   "cell_type": "code",
   "execution_count": 12,
   "metadata": {},
   "outputs": [
    {
     "data": {
      "text/plain": [
       "model                   367\n",
       "displ                    36\n",
       "cyl                       7\n",
       "trans                    26\n",
       "drive                     2\n",
       "fuel                      5\n",
       "cert_region               2\n",
       "stnd                     19\n",
       "stnd_description         19\n",
       "underhood_id            230\n",
       "veh_class                 9\n",
       "air_pollution_score       6\n",
       "city_mpg                 58\n",
       "hwy_mpg                  62\n",
       "cmb_mpg                  57\n",
       "greenhouse_gas_score     10\n",
       "smartway                  3\n",
       "comb_co2                299\n",
       "dtype: int64"
      ]
     },
     "execution_count": 12,
     "metadata": {},
     "output_type": "execute_result"
    }
   ],
   "source": [
    "df_18.nunique()"
   ]
  },
  {
   "cell_type": "markdown",
   "metadata": {},
   "source": [
    "**What those unique values are and counts for each**"
   ]
  },
  {
   "cell_type": "code",
   "execution_count": 13,
   "metadata": {},
   "outputs": [
    {
     "name": "stdout",
     "output_type": "stream",
     "text": [
      "Column model has 436 unique values. The values are as follows:\n",
      "\n",
      "['ACURA MDX', 'ACURA RDX', 'ACURA RL', 'ACURA TL', 'ACURA TSX', 'ASTON MARTIN DB9', 'ASTON MARTIN DB9 Volante', 'ASTON MARTIN V8 Vantage', 'AUDI A3', 'AUDI A4', 'AUDI A4 Avant', 'AUDI A4 Cabriolet', 'AUDI A6', 'AUDI A6 Avant', 'AUDI A8', 'AUDI A8 L', 'AUDI Q7', 'AUDI R8', 'AUDI RS4', 'AUDI RS4 Cabriolet', 'AUDI S4', 'AUDI S4 Avant', 'AUDI S4 Cabriolet', 'AUDI S5', 'AUDI S6', 'AUDI S8', 'AUDI TT Coupe', 'AUDI TT Roadster', 'BENTLEY Arnage', 'BENTLEY Azure', 'BENTLEY Continental Flying Spur', 'BENTLEY Continental GT', 'BENTLEY Continental GTC', 'BMW 328ci', 'BMW 328ci Convertible', 'BMW 328cxi', 'BMW 328i', 'BMW 328i Sport Wagon', 'BMW 328xi', 'BMW 328xi Sport Wagon', 'BMW 335ci', 'BMW 335ci Convertible', 'BMW 335cxi', 'BMW 335i', 'BMW 335xi', 'BMW 528i', 'BMW 528xi', 'BMW 535i', 'BMW 535xi', 'BMW 535xi Sport Wagon', 'BMW 550i', 'BMW 650ci', 'BMW 650ci Convertible', 'BMW 750i', 'BMW 750li', 'BMW 760li', 'BMW Alpina B7', 'BMW M5', 'BMW M6', 'BMW M6 Convertible', 'BMW X3', 'BMW X5', 'BMW Z4', 'BMW Z4 Coupe', 'BUGATTI Veyron', 'BUICK Allure', 'BUICK Enclave', 'BUICK LaCrosse', 'BUICK Lucerne', 'BUICK Terraza', 'CADILLAC CTS', 'CADILLAC DTS', 'CADILLAC Escalade', 'CADILLAC Limousine', 'CADILLAC SRX', 'CADILLAC STS', 'CADILLAC XLR', 'CHEVROLET Avalanche 1500', 'CHEVROLET Aveo', 'CHEVROLET Aveo 5', 'CHEVROLET Classic', 'CHEVROLET Cobalt', 'CHEVROLET Colorado', 'CHEVROLET Corvette', 'CHEVROLET Equinox', 'CHEVROLET Express 1500', 'CHEVROLET Express 2500', 'CHEVROLET Express 3500', 'CHEVROLET HHR', 'CHEVROLET Impala', 'CHEVROLET Malibu', 'CHEVROLET Malibu Hybrid', 'CHEVROLET Silverado 15', 'CHEVROLET Silverado 25', 'CHEVROLET Silverado 35', 'CHEVROLET Suburban 1500', 'CHEVROLET Suburban 2500', 'CHEVROLET Tahoe 1500', 'CHEVROLET Tahoe 1500 Hybrid', 'CHEVROLET Trailblazer', 'CHEVROLET Uplander', 'CHEVROLET Van 1500', 'CHEVROLET Van 2500', 'CHEVROLET Van 3500', 'CHRYSLER 300', 'CHRYSLER Aspen', 'CHRYSLER Crossfire', 'CHRYSLER PT Cruiser', 'CHRYSLER PT Cruiser Convertible', 'CHRYSLER Pacifica', 'CHRYSLER SRT-8', 'CHRYSLER Sebring', 'CHRYSLER Sebring Convertible', 'CHRYSLER Town & Country', 'DODGE 3500', 'DODGE Avenger', 'DODGE Caliber', 'DODGE Caravan', 'DODGE Challenger', 'DODGE Charger', 'DODGE Dakota', 'DODGE Durango', 'DODGE Magnum', 'DODGE Nitro', 'DODGE RAM 1500', 'DODGE RAM 2500', 'DODGE RAM 3500', 'DODGE Sprinter 2500', 'DODGE Viper', 'DODGE Viper Convertible', 'FERRARI 599 GTB Fiorano', 'FERRARI 612 Scaglietti', 'FORD Crown Victoria FFV', 'FORD E150', 'FORD E150 Club Wagon FFV', 'FORD E150 FFV', 'FORD E250', 'FORD E250 FFV', 'FORD E350', 'FORD Edge', 'FORD Escape', 'FORD Escape Hybrid', 'FORD Expedition', 'FORD Explorer', 'FORD Explorer Sport Trac', 'FORD F150', 'FORD F150 FFV', 'FORD F150 STX SE', 'FORD F150 STX SE FFV', 'FORD F150 Supercharged', 'FORD F250', 'FORD F350', 'FORD Focus', 'FORD Fusion', 'FORD Mustang', 'FORD Ranger', 'FORD Taurus', 'FORD Taurus X', 'FREIGHTLINER 2500', 'FREIGHTLINER 3500', 'GMC Acadia', 'GMC Canyon', 'GMC Envoy', 'GMC Savana 1500', 'GMC Savana 2500', 'GMC Savana 3500', 'GMC Sierra 15', 'GMC Sierra 25', 'GMC Sierra 35', 'GMC Yukon 1500', 'GMC Yukon 1500 Hybrid', 'GMC Yukon 2500', 'HONDA Accord', 'HONDA CR-V', 'HONDA Civic', 'HONDA Civic Hybrid', 'HONDA Element', 'HONDA Fit', 'HONDA Odyssey', 'HONDA Pilot', 'HONDA Ridgeline', 'HONDA S2000', 'HUMMER H2', 'HUMMER H3', 'HYUNDAI Accent', 'HYUNDAI Azera', 'HYUNDAI Elantra', 'HYUNDAI Entourage', 'HYUNDAI Santa Fe', 'HYUNDAI Sonata', 'HYUNDAI Tiburon', 'HYUNDAI Tucson', 'HYUNDAI Veracruz', 'INFINITI FX35', 'INFINITI FX45', 'INFINITI G35', 'INFINITI G35X', 'INFINITI G37', 'INFINITI M35', 'INFINITI M35X', 'INFINITI M45', 'INFINITI M45X', 'INFINITI QX56', 'ISUZU Ascender', 'ISUZU I-290', 'ISUZU I-370', 'JEEP Commander', 'JEEP Compass', 'JEEP Grand Cherokee', 'JEEP Liberty', 'JEEP Patriot', 'JEEP Wrangler', 'KIA Amanti', 'KIA Optima', 'KIA Rio', 'KIA Rondo', 'KIA Sedona', 'KIA Sorento', 'KIA Spectra', 'KIA Sportage', 'LAMBORGHINI Gallardo Coupe', 'LAMBORGHINI Gallardo Spyder', 'LAMBORGHINI Murcielago', 'LAMBORGHINI Murcielago Reventon', 'LAMBORGHINI Murcielago Roadster', 'LAND ROVER LR2', 'LAND ROVER LR3', 'LAND ROVER Range Rover', 'LAND ROVER Range Rover Sport', 'LEXUS ES 350', 'LEXUS GS 350', 'LEXUS GS 450h', 'LEXUS GS 460', 'LEXUS GX 470', 'LEXUS IS 250', 'LEXUS IS 350', 'LEXUS LS 460', 'LEXUS LS 460 L', 'LEXUS LS 600HL', 'LEXUS LX 570', 'LEXUS RX 350', 'LEXUS RX 400H', 'LEXUS SC 430', 'LINCOLN MKX', 'LINCOLN MKZ', 'LINCOLN Mark LT', 'LINCOLN Navigator', 'LOTUS Elise', 'LOTUS Exige', 'MASERATI Granturismo', 'MASERATI Quattroporte', 'MAZDA 3', 'MAZDA 5', 'MAZDA 6', 'MAZDA B2300', 'MAZDA B3000', 'MAZDA B4000', 'MAZDA CX-7', 'MAZDA CX-9', 'MAZDA MX-5', 'MAZDA RX-8', 'MAZDA Tribute', 'MAZDA Tribute Hybrid', 'MERCEDES-BENZ C300', 'MERCEDES-BENZ C350', 'MERCEDES-BENZ CL550', 'MERCEDES-BENZ CL600', 'MERCEDES-BENZ CL63 AMG', 'MERCEDES-BENZ CL65 AMG', 'MERCEDES-BENZ CLK350', 'MERCEDES-BENZ CLK350 Cabriolet', 'MERCEDES-BENZ CLK550', 'MERCEDES-BENZ CLK550 Cabriolet', 'MERCEDES-BENZ CLK63 AMG', 'MERCEDES-BENZ CLK63 AMG Cabriolet', 'MERCEDES-BENZ CLS550', 'MERCEDES-BENZ CLS63 AMG', 'MERCEDES-BENZ E320 Bluetec', 'MERCEDES-BENZ E350', 'MERCEDES-BENZ E550', 'MERCEDES-BENZ E550 4Matic', 'MERCEDES-BENZ E63 AMG', 'MERCEDES-BENZ E63 AMG Wagon', 'MERCEDES-BENZ G500', 'MERCEDES-BENZ G55 AMG', 'MERCEDES-BENZ GL320 CDI 4Matic', 'MERCEDES-BENZ GL450 4Matic', 'MERCEDES-BENZ GL550 4Matic', 'MERCEDES-BENZ ML320 CDI 4Matic', 'MERCEDES-BENZ ML350 4Matic', 'MERCEDES-BENZ ML550 4Matic', 'MERCEDES-BENZ Maybach 57', 'MERCEDES-BENZ Maybach 57S', 'MERCEDES-BENZ Maybach 62', 'MERCEDES-BENZ Maybach 62S', 'MERCEDES-BENZ R320 CDI 4Matic', 'MERCEDES-BENZ R350', 'MERCEDES-BENZ R350 4Matic', 'MERCEDES-BENZ S550', 'MERCEDES-BENZ S550 4Matic', 'MERCEDES-BENZ S600', 'MERCEDES-BENZ S63 AMG', 'MERCEDES-BENZ S65 AMG', 'MERCEDES-BENZ SL55 AMG', 'MERCEDES-BENZ SL550', 'MERCEDES-BENZ SL600', 'MERCEDES-BENZ SL65 AMG', 'MERCEDES-BENZ SLK280', 'MERCEDES-BENZ SLK350', 'MERCEDES-BENZ SLK55 AMG', 'MERCEDES-BENZ SLR', 'MERCURY Grand Marquis FFV', 'MERCURY Mariner', 'MERCURY Mariner Hybrid', 'MERCURY Milan', 'MERCURY Mountaineer', 'MERCURY Sable', 'MINI Mini Cooper Convertible', 'MINI Mini Cooper S Convertible', 'MITSUBISHI Eclipse', 'MITSUBISHI Eclipse Spyder', 'MITSUBISHI Endeavor', 'MITSUBISHI Galant', 'MITSUBISHI Lancer', 'MITSUBISHI Outlander', 'MITSUBISHI Raider', 'NISSAN 350Z', 'NISSAN 350Z Roadster', 'NISSAN Altima', 'NISSAN Altima Hybrid', 'NISSAN Armada', 'NISSAN Frontier', 'NISSAN Maxima', 'NISSAN Pathfinder', 'NISSAN Quest', 'NISSAN Rogue', 'NISSAN Sentra', 'NISSAN Titan', 'NISSAN Versa', 'NISSAN Xterra', 'PONTIAC G5', 'PONTIAC G6', 'PONTIAC G8', 'PONTIAC Grand Prix', 'PONTIAC Pursuit', 'PONTIAC Solstice', 'PONTIAC Torrent', 'PONTIAC Vibe', 'PORSCHE 911 GT2', 'PORSCHE 911 GT3', 'PORSCHE 911 GT3 RS', 'PORSCHE 911 Turbo', 'PORSCHE 911 Turbo Cabriolet', 'PORSCHE Boxster', 'PORSCHE Boxster S', 'PORSCHE Carrera Cabriolet', 'PORSCHE Carrera Coupe', 'PORSCHE Carrera Targa', 'PORSCHE Cayenne', 'PORSCHE Cayenne GTS', 'PORSCHE Cayenne S', 'PORSCHE Cayenne Turbo', 'PORSCHE Cayman', 'PORSCHE Cayman S', 'ROLLS-ROYCE Phantom', 'ROUSH Stage 3 F150', 'ROUSH Stage 3 Mustang', 'SAAB 9-3 Convertible', 'SAAB 9-3 Sport Sedan', 'SAAB 9-3 Sportcombi', 'SAAB 9-5', 'SAAB 9-5 Sportcombi', 'SAAB 9-7X', 'SALEEN S281', 'SATURN Aura', 'SATURN Aura Hybrid', 'SATURN Outlook', 'SATURN Sky', 'SATURN Vue', 'SATURN Vue Hybrid', 'SHELBY Mustang GT', 'SUBARU Forester', 'SUBARU Impreza', 'SUBARU Impreza Wagon', 'SUBARU Legacy', 'SUBARU Outback Sport', 'SUBARU Outback Wagon', 'SUBARU Tribeca', 'SUZUKI Forenza', 'SUZUKI Forenza Wagon', 'SUZUKI Grand Vitara', 'SUZUKI Reno', 'SUZUKI SX4', 'SUZUKI XL7', 'TOYOTA 4Runner', 'TOYOTA Avalon', 'TOYOTA Camry', 'TOYOTA Camry Hybrid', 'TOYOTA Corolla', 'TOYOTA FJ Cruiser', 'TOYOTA Highlander', 'TOYOTA Highlander Hybrid', 'TOYOTA Land Cruiser', 'TOYOTA Matrix', 'TOYOTA Prius', 'TOYOTA RAV4', 'TOYOTA Scion TC', 'TOYOTA Scion XB', 'TOYOTA Scion XD', 'TOYOTA Sequoia', 'TOYOTA Sienna', 'TOYOTA Solara', 'TOYOTA Solara Convertible', 'TOYOTA Tacoma', 'TOYOTA Tundra', 'TOYOTA Yaris', 'VOLKSWAGEN Eos', 'VOLKSWAGEN GTI', 'VOLKSWAGEN Jetta', 'VOLKSWAGEN Jetta Wagon', 'VOLKSWAGEN New Beetle', 'VOLKSWAGEN New Beetle Convertible', 'VOLKSWAGEN Passat', 'VOLKSWAGEN Passat Wagon', 'VOLKSWAGEN R32', 'VOLKSWAGEN Rabbit', 'VOLKSWAGEN Touareg', 'VOLVO C30', 'VOLVO C70 Convertible', 'VOLVO S40', 'VOLVO S60', 'VOLVO S80', 'VOLVO V50', 'VOLVO V70', 'VOLVO XC 70', 'VOLVO XC 90']\n",
      "\n",
      "\n"
     ]
    },
    {
     "name": "stdout",
     "output_type": "stream",
     "text": [
      "Column displ has 47 unique values. The values are as follows:\n",
      "\n",
      "[3.7, 2.3, 3.5, 3.2, 2.4, 5.9, 4.3, 2.0, 3.1, 4.2, 6.0, 3.6, 5.2, 6.7, 3.0, 4.8, 4.4, 5.0, 8.0, 3.8, 5.3, 4.6, 3.9, 6.2, 1.6, 2.2, 2.9, 7.0, 3.4, 5.7, 2.7, 6.1, 4.7, 4.0, 3.3, 8.4, 5.4, 6.8, 1.8, 1.3, 1.5, 4.5, 5.6, 6.5, 2.5, 5.5, 2.8]\n",
      "\n",
      "\n",
      "Column cyl has 8 unique values. The values are as follows:\n",
      "\n",
      "['(6 cyl)', '(4 cyl)', '(12 cyl)', '(8 cyl)', '(10 cyl)', '(16 cyl)', '(5 cyl)', '(2 cyl)']\n",
      "\n",
      "\n",
      "Column trans has 14 unique values. The values are as follows:\n",
      "\n",
      "['Auto-S5', 'Man-6', 'Auto-S6', 'Auto-AV', 'Auto-S7', 'Auto-L4', 'Auto-L6', 'Auto-4', 'Man-5', 'Auto-L5', 'Auto-6', 'S8', 'Auto-S4', 'Auto-L7']\n",
      "\n",
      "\n",
      "Column drive has 2 unique values. The values are as follows:\n",
      "\n",
      "['4WD', '2WD']\n",
      "\n",
      "\n",
      "Column fuel has 5 unique values. The values are as follows:\n",
      "\n",
      "['Gasoline', 'ethanol/gas', 'ethanol', 'diesel', 'CNG']\n",
      "\n",
      "\n",
      "Column sales_area has 3 unique values. The values are as follows:\n",
      "\n",
      "['CA', 'FA', 'FC']\n",
      "\n",
      "\n",
      "Column stnd has 12 unique values. The values are as follows:\n",
      "\n",
      "['U2', 'B5', 'L2', 'S2', 'B8', 'SLEV', 'B4', 'HDV', 'LEV', 'B3', 'B2', 'B10']\n",
      "\n",
      "\n",
      "Column underhood_id has 343 unique values. The values are as follows:\n",
      "\n",
      "['8HNXT03.7PKR', '8HNXT02.3DKR', '8HNXV03.5HKR', '8HNXV03.5RKR', '8HNXV02.4FKC', '8ASXV05.9803', '8ASXV04.3305', '8ADXV02.0366', '8VWXV03.2535', '8ADXV02.0352', '8ADXV03.1374', '8ADXV04.2365', '8ADXV06.0359', '8VWXT03.6276', '8ADXT04.2358', '8ADXV04.2375', '8ADXV04.2355', '8ADXV05.2385', '8BEXV06.7TTC', '8BEXV06.0501', '8BMXV03.0N51', '8BMXB03.0N52', '8BMXV03.0N54', '8BMXV04.8UL2', '8BMXV06.0LE2', '8ABBV04.4H10', '8BMXV05.0S85', '8BMXT03.0E70', '8BMXT04.8E70', '8BGTV08.0V16', '8GMXV03.8044', '8GMXV03.6041', '8GMXB03.8146', '8GMXV05.3084', '8GMXT03.6151', '8GMXV04.6066', '8GMXV04.6065', '8GMXB03.9142', '8GMXV03.6053', '8GMXB03.6148', '8GMXT06.2382', '8GMXB04.6167', '8GMXT05.3381', '8GMXT05.3380', '8GMXT06.0383', '8GMXT05.3373', '8GMXT05.3379', '8GDXV01.6D04', '8GMXV03.5043', '8GMXV02.2028', '8GMXV02.2030', '8GMXV02.4025', '8GMXT02.9190', '8GMXT03.7188', '8GMXT02.9189', '8GMXT03.7187', '8GMXV06.2086', '8GMXV06.2081', '8GMXV07.0085', '8GMXT05.3384', '8GMXT06.2394', '8GMXK06.0389', '8GMXK06.0396', '8GMXV02.4032', '8GMXV02.0021', '8GMXV03.9052', '8GMXV02.4027', '8GMXV02.4040', '8GMXT04.3186', '8GMXT06.0392', '8GMXT04.2186', '8GMXT04.2185', '8GMXT06.0387', '8GMXT03.9140', '8CRXV0215M80', '8CRXV05.7MD0', '8CRXV02.7ME0', '8CRXV03.5ME0', '8CRXV06.1ME0', '8CRXT0287P80', '8CRXT05.7PE0', '8CRXT04.7PJP', '8CRXV03.2ME0', '8CRXV0148M80', '8CRXV02.4ME1', '8CRXV02.4ME3', '8CRXT0231N80', '8CRXB0241M80', '8CRXT03.8NE0', '8CRXB04.0ME0', '8CRXB0144M80', '8CRXB02.4ME0', '8CRXV0167M70', '8CRXV02.7MHP', '8CRXT03.3NEP', '8MBXT03.5L2A', '8CRXB0144M81', '8CRXT0226P80', '8CRXT03.7PE0', '8CRXT0226N80', '8CRXT03.7NE0', '8CRXT04.0NE0', '8CRXT04.7PE0', '8CRXK05.7TX1', '8CEXK06.7TXW', '8CRXK05.7TX0', '8CEXK06.7UXW', '8MBXT03.5BN8', '8CRXV08.4ME0', '8FEXV05.7LEV', '8FMXV04.6VEF', '8FMXT04.65HA', '8FMXT05.45H2', '8FMXK04.66RA', '8FMXK05.46R3', '8FMXT04.65E9', '8FMXT06.85HR', '8FMXT03.52EB', '8FMXT02.31EF', '8FMXT02.31EA', '8FMXT03.01EB', '8FMXT03.02EC', '8FMXT02.32ZE', '8FMXT05.44E6', '8FMXT04.03DB', '8FMXT04.63BX', '8FMXT04.63EZ', '8FMXT05.44D7', '8FMXT04.23A4', '8FMXT04.63AB', '8FMXT04.23H4', '8FMXT04.63HB', '8FMXT05.44HA', '8FMXT05.44E2', '8FMXT05.44HF', '8FMXT05.43DP', '8FMXT05.43HP', '8S3XT05.4IBB', '8FMXK05.46RG', '8FMXK06.86RA', '8FMXK05.46BG', '8FMXK05.47RE', '8FMXK06.87RB', '8FMXV02.0VZP', '8FMXV02.0VD4', '8FMXV02.3VZT', '8FMXV03.0VEK', '8FMXV02.3VEU', '8FMXV04.0VER', '8FMXV04.6VBB', '8FMXV05.4VEK', '8FMXT02.31BA', '8FMXT03.01BK', '8FMXT03.02BB', '8FMXT02.31EL', '8FMXT03.01EM', '8FMXT03.02EH', '8FMXT04.02EG', '8FMXV03.51ZL', '8FMXV03.5VEP', '8HNXV02.4EMC', '8HNXV03.5BMC', '8HNXV02.4TKR', '8HNXV03.5VKR', '8HNXT02.4KKR', '8HNXV01.8XW3', '8HNXV01.8LKR', '8HNXV01.3ZCP', '8HNXV02.4CKC', '8HNXV01.5JKC', '8HNXT03.54KR', '8HNXT03.5NKR', '8HNXT03.5MKR', '8HNXV02.2AKC', '8GMXT05.3377', '8GMXT05.3376', '8HYXV01.6MW5', '8HYXV03.3TW5', '8HYXV03.8AW5', '8HYXV02.0HPC', '8HYXV02.0HW5', '8KMXT03.8VW5', '8HYXT02.7CW5', '8HYXT03.3PW5', '8HYXV02.4SW5', '8HYXV03.3FW5', '8HYXV02.0GW5', '8HYXV02.7KM5', '8HYXT02.0JW5', '8HYXT02.7MM5', '8HYXT03.8EM5', '8NSXT03.5G7A', '8NSXT04.5G8A', '8NSXV03.5GAB', '8NSXV03.7GAA', '8NSXV03.5G7C', '8NSXV04.5G8A', '8NSXT05.6G9A', '8CRXT06.1PE0', '8CRXT03.05RW', '8CRXT0231N81', '8CRXT03.8NE1', '8KMXV03.8HW5', '8KMXV02.4MW5', '8KMXV01.6BW5', '8KMXV02.4UW5', '8KMXV02.7NW5', '8KMXT03.8LM5', '8KMXV02.0LPC', '8KMXV02.0LW5', '8KMXT02.0KW5', '8KMXT02.7MM5', '8NLXV05.0406', '8NLXV06.5474', '8LRXT03.2001', '8LRXT04.4001', '8LRXT04.2001', '8TYXV03.5BEA', '8TYXV03.5BEB', '8TYXV03.5CC4', '8TYXV04.6BEA', '8TYXT04.7BES', '8TYXV02.5BEA', '8TYXV05.0CC4', '8TYXT05.7BEX', '8TYXT03.5BEM', '8TYXT03.3CCU', '8TYXV04.3AJA', '8LTXV01.8JHB', '8MAXV04.2LEV', '8TKXV02.0NH1', '8TKXV02.3NH1', '8TKXV02.3NF1', '8TKXV02.35NM', '8TKXV02.35NN', '8TKXV02.35DA', '8TKXV02.3NH2', '8TKXV03.05FA', '8TKXV02.35DB', '8TKXT02.35DA', '8TKXT03.75FA', '8TKXV02.05FA', '8TKXV01.35DA', '8MBXV03.5BN4', '8MBXV03.0U2A', '8MBXB05.5U2A', '8MBXV06.0L2A', '8MBXB06.3L2A', '8MBXV05.5BN4', '8MBXV03.0BN8', '8MBXV03.5S2A', '8MBXT05.5L2A', '8MBXT03.0B10', '8MBXB03.5U2A', '8MBXV05.5L2A', '8BMXV01.6R52', '8DSXV02.4G4H', '8DSXV02.4GRH', '8DSXV03.8GRB', '8DSXV03.8GRC', '8DSXT03.8GRB', '8DSXV02.4G6G', '8DSXV02.4GRG', '8MTXV02.0G6G', '8MTXV02.0GRG', '8MTXT03.0G6G', '8MTXT02.4GRB', '8MTXT03.0GRG', '8NSXV02.585A', '8NSXV03.5G7B', '8NSXV02.5G5A', '8NSXV02.5G3A', '8NSXT05.6G9B', '8NSXT02.5G5A', '8NSXT04.0G6A', '8NSXV03.5G7A', '8NSXT03.5G7C', '8NSXT02.585A', '8NSXT02.5G5B', '8NSXV02.0G2A', '8NSXV02.5G5B', '8NSXV01.8G1A', '8GMXV06.0082', '8GMXV02.0020', '8GMXV02.4031', '8NTXV01.8BEA', '8PRXV03.6T97', '8PRXV03.6GT3', '8PRXV03.4C87', '8PRXV03.8997', '8PRXT03.66ED', '8PRXT04.8SED', '8PRXT04.8TED', '8RRGV06.7LE2', '8RIIT05.4RI7', '8RIIV04.6VBB', '8GMXV02.3001', '8GMXV02.8004', '8GMXT04.2188', '8S3XV05.0JDC', '8GMXT02.4124', '8GMXT02.4123', '8GMXT02.4135', '8SLBV04.600F', '8FJXB02.5NVD', '8FJXV02.5PRA', '8FJXV02.5MTC', '8FJXB02.5PYH', '8FJXB02.5MXG', '8FJXB03.6TSF', '8GDXV02.0D04', '8SKXT2.745E1', '8SKXV1.995D1', '8GMXT03.6150', '8TYXT04.7BEM', '8TYXT04.0AEM', '8TYXV02.4HX2', '8TYXV02.4BEA', '8TYXV02.4HC3', '8TYXV01.8BEA', '8TYXT03.3CC4', '8TYXV01.5HC3', '8TYXT02.4BEH', '8TYXT02.4BEM', '8TYXV02.4BEB', '8TYXV01.8AJA', '8TYXT04.7BGX', '8TYXV03.3BEA', '8TYXT02.7AEH', '8TYXT02.7AEM', '8TYXT04.0AES', '8TYXV01.5BEA', '8VWXV02.5257', '8VWXV02.5253', '8VWXV03.6246', '8VWXT05.0375', '8VVXV02.4U2N', '8VVXV02.5U2T', '8VVXV02.4S2N', '8VVXV02.4L2T', '8VVXV03.0U2T', '8VVXB03.2U2N', '8VVXB04.4U2N']\n",
      "\n",
      "\n",
      "Column veh_class has 9 unique values. The values are as follows:\n",
      "\n",
      "['SUV', 'midsize car', 'small car', 'station wagon', 'large car', 'minivan', 'pickup', 'van', 'special purpose']\n",
      "\n",
      "\n",
      "Column air_pollution_score has 13 unique values. The values are as follows:\n",
      "\n",
      "['7', '6', '9.5', '3', '7/7', '6/6', '2', '3/3', '1', '0', '8', '9', '6/4']\n",
      "\n",
      "\n",
      "Column fe_calc_appr has 2 unique values. The values are as follows:\n",
      "\n",
      "['Drv', '5cy']\n",
      "\n",
      "\n",
      "Column city_mpg has 39 unique values. The values are as follows:\n",
      "\n",
      "['15', '17', '16', '18', '19', '20', '10', '11', '12', '13', '21', '22', '14', '23', '9', '8', '11/14', '24', '9/12', '14/18', '13/18', '11/15', '12/16', '10/13', '9/14', '9/13', '13/19', '11/17', '34', '29', '10/14', '25', '26', '40', '27', '28', '35', '33', '48']\n",
      "\n",
      "\n",
      "Column hwy_mpg has 43 unique values. The values are as follows:\n",
      "\n",
      "['20', '22', '24', '26', '27', '28', '16', '18', '17', '19', '29', '25', '30', '23', '21', '31', '15', '14', '15/20', '14/19', '32', '34', '33', '12/16', '21/29', '20/28', '17/23', '12/17', '12/19', '20/27', '19/26', '17/24', '12/18', '16/23', '13/18', '35', '36', '45', '13/19', '13', '19/25', '13/17', '37']\n",
      "\n",
      "\n",
      "Column cmb_mpg has 38 unique values. The values are as follows:\n",
      "\n",
      "['17', '19', '21', '20', '22', '23', '12', '13', '15', '24', '25', '18', '16', '14', '26', '11', '10', '12/16', '27', '10/14', '16/22', '16/21', '13/17', '14/19', '11/15', '10/15', '15/21', '13/19', '13/18', '32', '28', '12/15', '29', '42', '30', '31', '34', '46']\n",
      "\n",
      "\n",
      "Column unadj_cmb_mpg has 721 unique values. The values are as follows:\n",
      "\n",
      "[22.0527, 24.1745, 24.5629, 27.2768, 25.9414, 27.569000000000003, 29.0566, 29.9192, 15.625, 16.9826, 17.0071, 18.6241, 19.8474, 31.1162, 32.5709, 27.2385, 31.8164, 23.9213, 25.8965, 27.9074, 25.4651, 23.8751, 19.4382, 20.8353, 17.8889, 19.555, 19.1608, 18.3588, 19.862000000000002, 20.927, 20.7524, 19.6261, 21.2088, 20.4789, 19.0325, 34.2214, 25.1621, 26.2801, 14.4488, 14.3942, 15.7772, 16.1613, 27.7684, 28.6009, 26.3581, 27.6154, 26.2843, 25.5598, 25.8212, 26.526999999999997, 25.0543, 25.5449, 23.5495, 24.7021, 22.7014, 23.18, 21.1711, 23.1443, 19.7068, 20.8408, 16.3311, 16.3813, 16.2277, 16.3451, 24.3048, 25.5868, 22.8058, 20.105, 10.0184, 20.8709, 19.8995, 19.1139, 18.9273, 17.9652, 17.9534, 18.6547, 24.8051, 25.0538, 25.7238, 25.9219, 26.4006, 27.0005, 18.4658, 14.3143, 14.7256, 17.4099, 16.8064, 15.8293, 15.2804, 15.2037, 16.373, 18.0733, 16.055, 12.2796, 12.0394, 16.4338, 14.3035, 14.024000000000001, 25.9759, 27.3276, 28.1948, 24.8333, 33.7076, 35.9566, 33.163000000000004, 33.843, 20.0312, 20.2206, 20.2891, 18.2998, 19.0716, 18.0947, 16.742, 16.9349, 15.0478, 17.9759, 19.4066, 17.9599, 19.2552, 19.2693, 10.2922, 10.3172, 13.8375, 13.8612, 23.783, 23.8774, 24.7904, 24.9213, 23.115, 23.2099, 24.0982, 24.1206, 29.1624, 21.5274, 16.1362, 20.4407, 24.6791, 20.0911, 26.9403, 12.5135, 12.0989, 15.824000000000002, 15.5804, 16.7947, 16.0549, 14.5953, 14.4162, 16.9628, 15.3576, 15.677999999999999, 28.2089, 26.3231, 16.4085, 16.0009, 16.5272, 15.5346, 13.7138, 13.1897, 13.7631, 16.8172, 14.8322, 15.2051, 10.8163, 22.7969, 25.3086, 25.8136, 23.0671, 23.4146, 27.5143, 19.0126, 19.7972, 19.5, 18.8, 12.9, 23.1781, 27.612, 26.9473, 27.4701, 28.8024, 30.2881, 22.8316, 22.3852, 21.6076, 32.0128, 23.4603, 25.1493, 29.0052, 20.5206, 30.3388, 27.2011, 19.2186, 24.9766, 23.7952, 25.9596, 17.1283, 29.1499, 30.2635, 32.3905, 21.5513, 19.5386, 19.8743, 22.6725, 20.9218, 20.9196, 18.8775, 23.5, 22.1, 24.1, 23.2, 19.4531, 18.9358, 22.1525, 18.3343, 17.8167, 18.2, 19.898, 15.6889, 15.8746, 14.5406, 14.6767, 16.9467, 24.5555, 22.8389, 31.913, 29.2497, 27.2048, 26.3806, 24.6595, 43.7088, 38.219, 18.5117, 20.8425, 19.6132, 19.9678, 18.9287, 18.4942, 18.0737, 20.6141, 21.0511, 19.9725, 18.6243, 12.9165, 14.1779, 19.8954, 14.8766, 16.5908, 36.5654, 37.0031, 30.5711, 25.3634, 26.9331, 30.7843, 24.686999999999998, 26.1385, 22.8382, 23.2505, 20.4212, 26.8004, 30.3187, 21.5407, 23.4312, 20.3064, 21.6567, 21.7508, 21.8343, 19.317999999999998, 21.2167, 24.8679, 28.0113, 12.5186, 12.0921, 15.7911, 15.5767, 16.7789, 16.0633, 14.6046, 14.4227, 16.963, 18.7774, 32.0254, 31.605999999999998, 29.3374, 28.9876, 33.0913, 33.2689, 25.4337, 29.7231, 28.7744, 37.5195, 39.0834, 39.0523, 23.9351, 58.8362, 26.4456, 28.3311, 26.2578, 27.3657, 39.2635, 40.0353, 41.128, 23.9191, 25.7877, 23.5655, 21.941999999999997, 21.3902, 20.636, 13.8972, 14.8732, 36.7161, 38.9347, 27.436, 26.0815, 36.8327, 36.3031, 23.7736, 25.6832, 26.69, 24.9049, 25.2437, 25.5255, 24.846, 31.9808, 32.6876, 28.7237, 29.3958, 30.4133, 24.8865, 25.3591, 25.7879, 28.175, 28.8515, 27.5216, 25.8546, 24.8765, 23.5845, 22.7473, 22.938000000000002, 21.4094, 18.6162, 25.5139, 25.9951, 24.6362, 26.35, 26.2473, 23.9767, 23.1733, 22.9053, 20.6885, 18.1142, 17.4388, 20.5, 12.9349, 12.8925, 33.0568, 32.0747, 22.0688, 21.4214, 15.7873, 13.2584, 26.0, 25.1, 21.888, 22.8334, 21.2406, 21.5699, 25.0729, 32.452, 32.6623, 38.0216, 39.0022, 28.2719, 27.1727, 22.2308, 22.0414, 35.3551, 34.1962, 28.1022, 27.4803, 25.4118, 24.1702, 15.9695, 16.5725, 14.9343, 15.5569, 12.4735, 13.6852, 23.6942, 18.0, 18.3, 18.6, 17.9, 28.6873, 26.6628, 28.6658, 30.823, 25.4158, 19.6279, 27.5892, 28.7628, 31.7472, 26.5808, 24.5642, 24.7254, 26.9406, 18.3211, 25.7193, 24.6127, 34.1139, 33.4232, 24.1927, 17.4668, 18.0555, 29.4225, 30.5587, 19.2874, 17.5964, 33.7686, 36.1471, 32.1722, 32.9532, 26.6458, 30.6332, 31.6194, 30.8872, 25.8711, 26.4515, 30.9074, 21.5304, 23.4429, 24.892, 23.9919, 23.5385, 22.1503, 29.5255, 31.2067, 31.3331, 23.8883, 24.2008, 26.8575, 19.7699, 25.8353, 21.5854, 16.6649, 17.39, 16.8416, 26.9756, 25.8697, 22.1871, 21.8924, 18.1105, 17.6711, 21.1376, 18.2107, 34.6809, 22.5424, 19.9254, 18.2927, 16.4789, 15.1536, 26.5701, 19.0099, 18.5119, 26.8962, 21.4786, 19.2178, 15.2945, 15.2106, 26.9374, 21.506999999999998, 21.2717, 21.1725, 21.3495, 17.0634, 16.6054, 18.0705, 20.6392, 17.3605, 17.4521, 26.0747, 26.1804, 24.480999999999998, 24.9963, 20.9981, 16.8499, 33.1406, 34.4194, 29.7892, 31.4201, 22.1976, 22.7751, 19.2378, 19.8641, 21.7732, 21.9324, 18.983, 19.0302, 17.6846, 16.6044, 22.7601, 19.5348, 24.1513, 24.3316, 20.0865, 19.6533, 22.1548, 21.8623, 25.4918, 26.4949, 24.820999999999998, 25.7888, 34.3151, 34.9176, 28.4241, 28.1612, 46.7098, 13.2223, 12.8322, 18.1892, 17.8105, 24.1879, 27.3225, 21.4066, 22.3816, 20.6895, 21.8599, 27.8653, 22.3221, 20.7457, 19.1431, 18.3342, 24.4681, 32.3107, 30.4278, 35.8005, 37.12, 31.3228, 34.7947, 13.2443, 12.7142, 18.168, 17.4653, 35.7536, 37.2359, 39.1939, 21.8608, 22.6427, 21.1002, 22.2316, 26.2352, 17.8353, 23.2937, 21.0806, 19.3547, 21.386, 22.4483, 21.0989, 21.1616, 36.2002, 38.3516, 24.215999999999998, 22.7787, 23.2427, 23.368000000000002, 22.7646, 23.6042, 28.0602, 29.1383, 30.8105, 26.8611, 28.8278, 25.0564, 25.5746, 25.68, 26.5672, 25.1606, 25.705, 26.3892, 26.7524, 20.6752, 21.2628, 19.4475, 18.0594, 17.2718, 15.970999999999998, 20.5941, 21.4889, 26.2487, 28.1224, 22.6582, 24.741, 27.8693, 29.6745, 26.1319, 27.8054, 17.6323, 17.8059, 21.64, 17.3747, 18.8918, 18.258, 18.3908, 36.725, 22.2607, 28.9455, 29.2274, 26.0552, 27.3126, 28.5514, 29.3687, 24.8319, 25.5267, 26.1235, 25.6256, 28.3275, 29.2439, 25.9779, 26.2491, 26.1042, 23.2105, 28.9921, 30.1545, 28.3659, 29.0841, 23.7566, 24.848000000000003, 23.3786, 24.2613, 33.404, 34.0987, 30.7593, 30.9893, 32.8197, 33.1891, 18.3969, 17.6455, 21.5479, 19.8881, 23.4219, 22.3886, 29.3877, 32.8941, 32.4557, 45.9416, 39.1089, 41.7571, 23.3541, 20.5027, 25.9861, 24.8013, 35.1911, 18.9488, 36.1181, 38.0931, 65.7778, 30.9485, 29.2409, 28.9095, 27.9374, 30.0621, 30.9139, 31.5448, 31.7078, 37.8849, 39.3004, 19.3628, 18.5988, 19.9352, 18.8887, 26.4632, 23.0032, 33.0168, 27.7565, 27.1873, 27.5684, 29.1807, 24.714000000000002, 21.9361, 20.8423, 22.7852, 19.3619, 18.7125, 20.0171, 18.2754, 21.5999, 42.2542, 42.7661, 28.662, 24.2241, 24.3604, 29.9263, 30.4394, 29.8732, 30.0349, 29.314, 24.7564, 26.0123, 29.7115, 25.8516, 24.4211, 18.2823, 21.6747, 29.945999999999998, 29.9979, 28.8034, 29.4688, 27.5924, 27.825, 26.3008, 26.9019, 26.7175, 28.191, 26.8209, 27.2792, 23.2583, 24.0531, 24.1462, 23.0728, 22.1142, 20.9644, 20.7134, 19.4789]\n",
      "\n",
      "\n",
      "Column greenhouse_gas_score has 20 unique values. The values are as follows:\n",
      "\n",
      "['4', '5', '6', '7', '0', '1', '3', '2', '8', '6/4', '4/2', '8/6', '7/5', '5/3', '4/3', '7/6', '6/5', '9', '6/3', '10']\n",
      "\n",
      "\n",
      "Column smartway has 2 unique values. The values are as follows:\n",
      "\n",
      "['no', 'yes']\n",
      "\n",
      "\n"
     ]
    }
   ],
   "source": [
    "for c in df_08.columns:\n",
    "    column = c\n",
    "    print('Column {} has {} unique values. The values are as follows:\\n\\n{}\\n\\n'.format(c, df_08[column].nunique(),list(df_08[column].dropna().unique()) ))"
   ]
  },
  {
   "cell_type": "code",
   "execution_count": 14,
   "metadata": {},
   "outputs": [
    {
     "name": "stdout",
     "output_type": "stream",
     "text": [
      "Column model has 367 unique values. The values are as follows:\n",
      "\n",
      "['ACURA RDX', 'ACURA TLX', 'ACURA TLX AWD A-SPEC', 'ACURA TLX FWD A-SPEC', 'ALFA ROMEO 4C', 'ALFA ROMEO Giulia', 'ALFA ROMEO Giulia AWD', 'ALFA ROMEO Stelvio AWD', 'AUDI A3', 'AUDI A3 Cabriolet', 'AUDI A4', 'AUDI A4 Ultra', 'AUDI A5', 'AUDI A5 Cabriolet', 'AUDI A5 Sportback quattro', 'AUDI A6', 'AUDI A7', 'AUDI A8 L', 'AUDI Q3', 'AUDI Q5', 'AUDI Q7', 'AUDI RS3', 'AUDI S3', 'AUDI S4', 'AUDI S5', 'AUDI S5 Cabriolet', 'AUDI S5 Sportback', 'AUDI SQ5', 'AUDI TT Coupe', 'AUDI TT RS', 'AUDI TT Roadster', 'AUDI TTS Coupe', 'AUDI allroad quattro', 'BENTLEY Bentayga', 'BENTLEY Chiron', 'BMW 230i Convertible', 'BMW 230i Coupe', 'BMW 230i xDrive Convertible', 'BMW 230i xDrive Coupe', 'BMW 320i', 'BMW 330e', 'BMW 330i', 'BMW 330i Gran Turismo', 'BMW 330i Sports Wagon', 'BMW 340i', 'BMW 340i Gran Turismo', 'BMW 430i Convertible', 'BMW 430i Coupe', 'BMW 430i Gran Coupe', 'BMW 440i Convertible', 'BMW 440i Coupe', 'BMW 440i Gran Coupe', 'BMW 530e', 'BMW 530i', 'BMW 540i', 'BMW 640i Convertible', 'BMW 640i Gran Coupe', 'BMW 650i Convertible', 'BMW 650i Gran Coupe', 'BMW 740e', 'BMW 740i', 'BMW 750i', 'BMW Alpina B6 Gran Coupe', 'BMW Alpina B7', 'BMW M2', 'BMW M240i Convertible', 'BMW M240i Coupe', 'BMW M3', 'BMW M4 Convertible', 'BMW M4 Coupe', 'BMW M4 DTM Champions Edition', 'BMW M550i', 'BMW M6 Convertible', 'BMW M6 Gran Coupe', 'BMW M760i xDrive', 'BMW X1 sDrive28i', 'BMW X1 xDrive28i', 'BMW X4 M40i', 'BMW X4 xDrive28i', 'BUICK Encore', 'BUICK Lacrosse', 'CADILLAC ATS', 'CADILLAC ATS-V', 'CADILLAC CT6', 'CADILLAC CTS', 'CADILLAC CTS-V', 'CADILLAC Escalade', 'CADILLAC XT5', 'CHEVROLET Camaro', 'CHEVROLET Colorado', 'CHEVROLET Colorado ZR2', 'CHEVROLET Corvette', 'CHEVROLET Cruze', 'CHEVROLET Cruze Hatchback', 'CHEVROLET Cruze Premier', 'CHEVROLET Cruze Premier Hatchback', 'CHEVROLET Equinox', 'CHEVROLET Impala', 'CHEVROLET Malibu', 'CHEVROLET Silverado 15', 'CHEVROLET Sonic', 'CHEVROLET Sonic 5', 'CHEVROLET Suburban 1500', 'CHEVROLET Tahoe 1500', 'CHEVROLET Traverse', 'CHEVROLET Trax', 'CHEVROLET Volt', 'CHRYSLER 300', 'CHRYSLER Pacifica', 'DODGE Challenger', 'DODGE Challenger GT', 'DODGE Challenger SRT', 'DODGE Charger', 'DODGE Charger SRT', 'DODGE Durango', 'DODGE Durango  SRT', 'DODGE Journey', 'FERRARI 488 Spider', 'FERRARI 488 gtb', 'FERRARI 812 Superfast', 'FERRARI California T', 'FERRARI GTC4Lusso', 'FERRARI GTC4Lusso T', 'FIAT 500L', 'FORD F150', 'FORD F150 Raptor', 'FORD Flex', 'FORD Fusion', 'FORD Fusion Energi Plug-in Hybrid', 'FORD Fusion Hybrid', 'FORD Transit Connect', 'GENESIS G80', 'GENESIS G90', 'GMC Acadia', 'GMC Canyon', 'GMC Sierra 15', 'GMC Terrain', 'GMC Yukon 1500', 'GMC Yukon 1500 XL', 'GMC Yukon XL 1500', 'HONDA Civic 5Dr', 'HONDA Fit', 'HONDA HR-V', 'HONDA Ridgeline', 'HYUNDAI Elantra', 'HYUNDAI Elantra GT', 'HYUNDAI Elantra SE', 'HYUNDAI Santa Fe', 'HYUNDAI Santa Fe Sport', 'HYUNDAI Santa Fe Sport Ultimate', 'HYUNDAI Santa Fe Ultimate', 'HYUNDAI Sonata', 'HYUNDAI Sonata SE', 'INFINITI Q50', 'INFINITI Q50 Hybrid', 'INFINITI Q50 Red Sport', 'INFINITI Q70', 'INFINITI Q70 Hybrid', 'INFINITI QX30', 'JAGUAR F-Pace', 'JAGUAR F-Type Convertible', 'JAGUAR F-Type Coupe', 'JAGUAR F-Type R Convertible', 'JAGUAR F-Type R Coupe', 'JAGUAR F-Type S Convertible', 'JAGUAR F-Type S Coupe', 'JAGUAR XE', 'JAGUAR XF', 'JEEP Cherokee', 'JEEP Cherokee 4x4 Active Drive II', 'JEEP Cherokee Trailhawk', 'JEEP Compass', 'JEEP Grand Cherokee', 'JEEP Grand Cherokee SRT', 'KARMA Revero', 'KIA Forte', 'KIA Forte5', 'KIA Optima', 'KIA Optima FE', 'KIA Rio', 'KIA Sedona', 'KIA Sedona SX', 'KIA Sedona SXL', 'KIA Sorento', 'KIA Sorento FE', 'KIA Soul', 'KIA Soul Electric', 'KIA Sportage', 'KIA Sportage FE', 'LAMBORGHINI Aventador Coupe', 'LAMBORGHINI Aventador Roadster', 'LAMBORGHINI Aventador S Coupe', 'LAMBORGHINI Aventador S Roadster', 'LAND ROVER Range Rover Velar', 'LEXUS GX 460', 'LEXUS LC 500', 'LEXUS LC 500h', 'LEXUS LX 570', 'LINCOLN Continental', 'LINCOLN MKT', 'LINCOLN MKT Livery', 'MASERATI Ghibli', 'MASERATI Ghibli S', 'MASERATI Ghibli S Q4', 'MASERATI Granturismo', 'MASERATI Granturismo Convertible', 'MASERATI Levante', 'MASERATI Levante S', 'MASERATI Quattroporte S', 'MASERATI Quattroporte S Q4', 'MASERATI Quattroporte V8', 'MAZDA 3', 'MAZDA CX-3', 'MAZDA CX-9', 'MERCEDES-BENZ AMG C43 4Matic', 'MERCEDES-BENZ AMG C63', 'MERCEDES-BENZ AMG C63 S', 'MERCEDES-BENZ AMG CLA45 4Matic', 'MERCEDES-BENZ AMG CLS63 4Matic', 'MERCEDES-BENZ AMG E43 4Matic', 'MERCEDES-BENZ AMG E63 S 4Matic', 'MERCEDES-BENZ AMG GLA45 4Matic', 'MERCEDES-BENZ AMG GLC43 4Matic', 'MERCEDES-BENZ AMG GLE 43 4Matic', 'MERCEDES-BENZ AMG GLE63', 'MERCEDES-BENZ AMG GLE63 S', 'MERCEDES-BENZ AMG GLS63', 'MERCEDES-BENZ AMG GT', 'MERCEDES-BENZ AMG GT S', 'MERCEDES-BENZ AMG S63 4Matic', 'MERCEDES-BENZ AMG SL63', 'MERCEDES-BENZ AMG SL65', 'MERCEDES-BENZ AMG SLC 43', 'MERCEDES-BENZ C300', 'MERCEDES-BENZ C300 4Matic', 'MERCEDES-BENZ CLA250', 'MERCEDES-BENZ CLA250 4Matic', 'MERCEDES-BENZ CLS550', 'MERCEDES-BENZ CLS550 4Matic', 'MERCEDES-BENZ E300', 'MERCEDES-BENZ E300 4Matic', 'MERCEDES-BENZ E400', 'MERCEDES-BENZ E400 4Matic', 'MERCEDES-BENZ GLA 250', 'MERCEDES-BENZ GLA250 4Matic', 'MERCEDES-BENZ GLC 300', 'MERCEDES-BENZ GLC 300 4Matic', 'MERCEDES-BENZ GLE350', 'MERCEDES-BENZ GLE350 4Matic', 'MERCEDES-BENZ GLS450 4Matic', 'MERCEDES-BENZ GLS550 4Matic', 'MERCEDES-BENZ S560 4Matic', 'MERCEDES-BENZ S560 4Matic Maybach', 'MERCEDES-BENZ SL550', 'MERCEDES-BENZ SLC300', 'MINI Cooper Clubman', 'MINI Cooper Clubman All4', 'MINI Cooper Convertible', 'MINI Cooper Countryman', 'MINI Cooper Countryman All4', 'MINI Cooper Hardtop', 'MINI Cooper S Clubman', 'MINI Cooper S Clubman All4', 'MINI Cooper S Convertible', 'MINI Cooper S Countryman', 'MINI Cooper S Countryman All4', 'MINI Cooper S Hardtop', 'MINI Cooper SE Countryman All4', 'MINI JCW Countryman All4', 'MINI John Cooper Works Clubman All4', 'MINI John Cooper Works Convertible', 'MINI John Cooper Works Hardtop', 'MITSUBISHI Mirage', 'MITSUBISHI Mirage G4', 'NISSAN 370Z', 'NISSAN 370Z Roadster', 'NISSAN Armada', 'NISSAN Versa', 'PORSCHE 911 Carrera', 'PORSCHE 911 Carrera 4', 'PORSCHE 911 Carrera 4 Cabriolet', 'PORSCHE 911 Carrera 4 GTS', 'PORSCHE 911 Carrera 4 GTS Cabriolet', 'PORSCHE 911 Carrera 4S', 'PORSCHE 911 Carrera 4S Cabriolet', 'PORSCHE 911 Carrera Cabriolet', 'PORSCHE 911 Carrera GTS', 'PORSCHE 911 Carrera GTS Cabriolet', 'PORSCHE 911 Carrera S', 'PORSCHE 911 Carrera S Cabriolet', 'PORSCHE 911 Targa 4', 'PORSCHE 911 Targa 4 GTS', 'PORSCHE 911 Targa 4S', 'PORSCHE 911 Turbo', 'PORSCHE 911 Turbo Cabriolet', 'PORSCHE 911 Turbo S', 'PORSCHE 911 Turbo S Cabriolet', 'PORSCHE Boxster', 'PORSCHE Boxster S', 'PORSCHE Cayenne GTS', 'PORSCHE Cayenne S', 'PORSCHE Macan', 'PORSCHE Macan GTS', 'PORSCHE Macan S', 'PORSCHE Panamera', 'PORSCHE Panamera 4', 'PORSCHE Panamera 4 Executive', 'PORSCHE Panamera 4S', 'PORSCHE Panamera 4S Executive', 'PORSCHE Panamera Turbo', 'PORSCHE Panamera Turbo Executive', 'RAM 1500', 'RAM Promaster City', 'SUBARU Crosstrek', 'SUBARU Forester', 'SUBARU Impreza', 'SUBARU Impreza Sport', 'SUBARU Legacy', 'SUBARU Outback', 'SUBARU WRX', 'TOYOTA 4Runner', 'TOYOTA Avalon', 'TOYOTA Avalon Hybrid', 'TOYOTA C-HR', 'TOYOTA Camry', 'TOYOTA Camry Hybrid LE', 'TOYOTA Camry Hybrid XLE/SE', 'TOYOTA Camry LE/SE', 'TOYOTA Camry XLE/XSE', 'TOYOTA Camry XSE', 'TOYOTA Corolla', 'TOYOTA Corolla LE Eco', 'TOYOTA Corolla iM', 'TOYOTA Land Cruiser', 'TOYOTA Prius c', 'TOYOTA RAV4', 'TOYOTA RAV4 Hybrid', 'TOYOTA RAV4 LE/XLE', 'TOYOTA RAV4 Limited', 'TOYOTA Sequoia', 'TOYOTA Sequoia FFV', 'TOYOTA Tundra', 'TOYOTA Tundra FFV', 'TOYOTA Yaris', 'VOLKSWAGEN Beetle', 'VOLKSWAGEN Beetle Convertible', 'VOLKSWAGEN Beetle Dune', 'VOLKSWAGEN Beetle Dune Convertible', 'VOLKSWAGEN Golf R', 'VOLKSWAGEN Jetta', 'VOLKSWAGEN Passat', 'VOLKSWAGEN Tiguan', 'VOLKSWAGEN Tiguan 4Motion', 'VOLVO Atlas', 'VOLVO Atlas 4Motion', 'VOLVO S60', 'VOLVO S60 CC', 'VOLVO S60 Inscription', 'VOLVO S60 Polestar', 'VOLVO S90', 'VOLVO V60', 'VOLVO V60 CC', 'VOLVO V60 Polestar', 'VOLVO V90', 'VOLVO V90 CC', 'VOLVO XC 60', 'VOLVO XC 90']\n",
      "\n",
      "\n",
      "Column displ has 36 unique values. The values are as follows:\n",
      "\n",
      "[3.5, 2.4, 1.8, 2.0, 2.9, 3.0, 2.5, 6.0, 8.0, 4.4, 6.6, 1.4, 3.6, 6.2, 2.8, 1.6, 1.5, 4.3, 5.3, 5.7, 6.4, 3.9, 6.5, 6.3, 2.7, 3.3, 5.0, 3.8, 3.7, 5.6, 3.2, 4.6, 4.7, 4.0, 5.5, 1.2]\n",
      "\n",
      "\n",
      "Column cyl has 7 unique values. The values are as follows:\n",
      "\n",
      "[6.0, 4.0, 5.0, 12.0, 16.0, 8.0, 3.0]\n",
      "\n",
      "\n",
      "Column trans has 26 unique values. The values are as follows:\n",
      "\n",
      "['SemiAuto-6', 'AMS-8', 'SemiAuto-9', 'AutoMan-6', 'Auto-8', 'AMS-6', 'AMS-7', 'Man-6', 'SemiAuto-8', 'SemiAuto-7', 'Auto-6', 'Auto-10', 'SemiAuto-10', 'Man-7', 'Auto-9', 'CVT', 'Auto-4', 'AutoMan-7', 'SCV-7', 'Auto-1', 'SCV-10', 'Auto-7', 'Man-5', 'SCV-8', 'SCV-6', 'SemiAuto-5']\n",
      "\n",
      "\n",
      "Column drive has 2 unique values. The values are as follows:\n",
      "\n",
      "['2WD', '4WD']\n",
      "\n",
      "\n",
      "Column fuel has 5 unique values. The values are as follows:\n",
      "\n",
      "['Gasoline', 'Gasoline/Electricity', 'Diesel', 'Ethanol/Gas', 'Electricity']\n",
      "\n",
      "\n",
      "Column cert_region has 2 unique values. The values are as follows:\n",
      "\n",
      "['FA', 'CA']\n",
      "\n",
      "\n",
      "Column stnd has 19 unique values. The values are as follows:\n",
      "\n",
      "['T3B125', 'U2', 'L3ULEV125', 'L2', 'T3B160', 'T3B110', 'L2ULEV125', 'S2', 'T3B30', 'L3SULEV30', 'L3ULEV70', 'T3B70', 'L3LEV160', 'L3ULEV50', 'T3B50', 'B5', 'T3B0', 'ZEV', 'L2LEV160']\n",
      "\n",
      "\n",
      "Column stnd_description has 19 unique values. The values are as follows:\n",
      "\n",
      "['Federal Tier 3 Bin 125', 'California LEV-II ULEV', 'California LEV-III ULEV125', 'California LEV-II LEV', 'Federal Tier 3 Bin 160', 'Federal Tier 3 Transitional Bin 110', 'California LEV-II ULEV125', 'California LEV-II SULEV', 'Federal Tier 3 Bin 30', 'California LEV-III SULEV30', 'California LEV-III ULEV70', 'Federal Tier 3 Bin 70', 'California LEV-III LEV160', 'California LEV-III ULEV50', 'Federal Tier 3 Bin 50', 'Federal Tier 2 Bin 5', 'Federal Tier 3 Bin 0', 'California ZEV', 'California LEV-II LEV160']\n",
      "\n",
      "\n",
      "Column underhood_id has 230 unique values. The values are as follows:\n",
      "\n",
      "['JHNXT03.5GV3', 'JHNXV02.4WH3', 'JHNXV03.5LH3', 'JCRXV01.85P0', 'JCRXJ02.05P0', 'JCRXJ02.95P0', 'JVGAV02.0APA', 'JVGAJ02.0A3A', 'JVGAV02.0A7C', 'JVGAJ02.0AAC', 'JVGAJ03.0AUE', 'JVGAV02.0AUA', 'JVGAV02.5NAG', 'JVGAJ03.0N7F', 'JVGAT06.0EAR', 'JVGAV08.0GLB', 'JBMXJ02.0B4X', 'JBMXJ02.0N20', 'JBMXV02.0H48', 'JBMXV03.0B58', 'JBMXV02.0H30', 'JBMXJ03.0B5X', 'JBMXJ03.0F16', 'JBMXJ04.4N63', 'JBMXV03.0B2X', 'JBMXV03.0S55', 'JBMXV04.4S63', 'JBMXV06.6N74', 'JBMXV02.0B46', 'JBMXT03.0N55', 'JGMXV01.4001', 'JGMXV01.4099', 'JGMXV02.5050', 'JGMXV03.6165', 'JGMXV02.0031', 'JGMXV03.6042', 'JGMXV06.2089', 'JGMXT06.2374', 'JGMXT03.6151', 'JGMXV06.2090', 'JGMXT02.5200', 'JGMXT02.8358', 'JGMXT03.6161', 'JGMXT03.6162', 'JGMXT02.8357', 'JGMXV01.5002', 'JGMXJ01.6356', 'JGMXT01.5090', 'JGMXT02.0100', 'JGMXV02.5001', 'JGMXV03.6166', 'JGMXV03.6048', 'JGMXV01.5010', 'JGMXV01.8050', 'JGMXT04.3187', 'JGMXT05.3382', 'JGMXT05.3384', 'JGMXT05.3383', 'JGMXV01.5020', 'JGMXV01.5030', 'JCRXV03.65PA', 'JCRXV03.65P0', 'JCRXV05.75P1', 'JCRXT03.65P4', 'JCRXV06.45P0', 'JCRXV06.25P0', 'JCRXT03.65P5', 'JCRXT05.75P2', 'JCRXT06.45P1', 'JCRXT02.45P2', 'JCRXT03.65PC', 'JFEXV03.9TUR', 'JFEXV06.5GDI', 'JCRXJ01.45P0', 'JFMXT02.73JK', 'JFMXT03.33DT', 'JFMXT03.54JK', 'JFMXT05.03DN', 'JFMXT03.54JM', 'JFMXV03.7VE8', 'JFMXJ03.5VEP', 'JFMXV01.5VZ3', 'JFMXV02.0VEN', 'JFMXV02.5VEU', 'JFMXV02.7VLM', 'JFMXV02.0VZQ', 'JFMXV02.0VZT', 'JFMXT02.52J9', 'JFMXT02.52K9', 'JHYXV03.31Y6', 'JHYXV03.81P5', 'JHYXV05.01R5', 'JHYXV03.31MF', 'JHYXV05.01S5', 'JGMXT02.5201', 'JGMXT01.5095', 'JHNXV01.5362', 'JHNXV01.5TH2', 'JHNXV01.5YK2', 'JHNXV01.5KH2', 'JHNXV01.8HA3', 'JHNXT03.5SW4', 'JHYXV01.41D6', 'JHYXV01.61KF', 'JHYXV02.01E5', 'JHYXV02.01E3', 'JHYXV01.61NF', 'JHYXV02.01G6', 'JHYXV03.31XF', 'JHYXV02.01VF', 'JHYXV02.41W5', 'JHYXV01.61F5', 'JHYXV02.01H5', 'JHYXV02.4AJ3', 'JHYXV02.4AJ5', 'JNSXV02.0NJA', 'JNSXV03.0NHA', 'JNSXV03.5NCB', 'JNSXV03.7NAA', 'JNSXV03.7NAB', 'JNSXV05.6N9A', 'JNSXV02.0NKA', 'JJLXJ02.0STY', 'JJLXJ02.0RTX', 'JJLXJ03.0FSP', 'JJLXV05.0FAM', 'JCRXT02.45PA', 'JCRXT02.45P1', 'JCRXT02.45P0', 'JCRXT03.25P0', 'JCRXT02.45P3', 'JKALV02.0LEV', 'JKMXV02.04E5', 'JKMXV02.04E3', 'JKMXV02.04F3', 'JKMXV02.04FF', 'JKMXV01.6DDF', 'JKMXV01.64VF', 'JKMXV02.04GF', 'JKMXV01.6DA6', 'JKMXT03.34SF', 'JKMXV02.04WF', 'JKMXV02.44P5', 'JKMXV03.34RF', 'JKMXV01.64JF', 'JKMXV02.04C3', 'JKMXV02.04C5', 'JKMXV00.0411', 'JKMXT02.04MF', 'JKMXT02.44N3', 'JKMXT02.44N5', 'JVGAV06.5LLR', 'JTYXT04.6B6X', 'JTYXV05.0M5A', 'JTYXV03.5P35', 'JTYXT05.7B6Y', 'JFMXV03.0VLG', 'JFMXV03.7VLT', 'JMAXV03.0DFI', 'JMAXV04.7LEV', 'JMAXT03.0AWD', 'JMAXV03.8DFI', 'JTKXV02.0CDA', 'JTKXV02.5CDB', 'JTKXV02.5FBA', 'JTKXT02.5FFA', 'JMBXJ03.0U2A', 'JMBXV04.0U2A', 'JMBXV02.0U2C', 'JMBXV05.5U2A', 'JMBXT03.0U2B', 'JMBXT05.5U2A', 'JMBXJ04.0U2A', 'JMBXJ06.0U2A', 'JMBXJ02.0U2C', 'JMBXJ02.0U2B', 'JMBXJ02.0U2A', 'JMBXT03.5U2A', 'JMBXT03.5U2B', 'JMBXV02.0U2A', 'JBMXV01.5M36', 'JBMXV01.5M3X', 'JBMXV02.0M46', 'JBMXV01.5H60', 'JBMXV02.0M48', 'JMTXV01.2G5P', 'JNSXT05.6N9C', 'JNSXV01.6N4A', 'JNSXV01.6P4A', 'JPRXV03.0C91', 'JPRXV04.0T91', 'JPRXV02.5B82', 'JPRXT03.6MCS', 'JPRXT02.0MR4', 'JPRXV03.0PV6', 'JPRXV04.0PV8', 'JFJXJ02.0BUY', 'JFJXJ02.0FPT', 'JFJXJ02.5HRV', 'JFJXJ03.6KTX', 'JFJXV02.5PHU', 'JTYXT04.0B6S', 'JTYXV03.5B6C', 'JTYXV02.5P34', 'JTYXV02.0K6B', 'JTYXV02.5P3A', 'JTYXV03.5M5B', 'JTYXV02.5P35', 'JTYXV02.5P33', 'JTYXV01.8B6A', 'JTYXV01.8M5B', 'JTYXV01.5P34', 'JTYXT02.5B6H', 'JTYXT02.5P3M', 'JTYXT05.7M5W', 'JTYXT05.7M58', 'JTYXT04.6B6W', 'JTYXV01.5B6B', 'JVGAV02.0V3R', 'JVGAV01.4VUP', 'JVGAV01.4V7P', 'JVGAV02.0VPD', 'JVGAT03.6VAS', 'JVVXV02.0030', 'JVVXJ02.0125', 'JVVXV02.0160', 'JVVXJ02.0A70', 'JVVXJ02.0B70', 'JVVXV02.0P30', 'JVVXJ02.0P30']\n",
      "\n",
      "\n",
      "Column veh_class has 9 unique values. The values are as follows:\n",
      "\n",
      "['small SUV', 'small car', 'midsize car', 'large car', 'standard SUV', 'station wagon', 'pickup', 'special purpose', 'minivan']\n",
      "\n",
      "\n",
      "Column air_pollution_score has 6 unique values. The values are as follows:\n",
      "\n",
      "[3, 1, 7, 5, 6, 10]\n",
      "\n",
      "\n",
      "Column city_mpg has 58 unique values. The values are as follows:\n",
      "\n",
      "['20', '19', '23', '21', '24', '17', '22', '26', '25', '27', '12', '9', '28/66', '27/70', '27/66', '16', '25/62', '18', '14', '15', '13', '29', '31', '30', '28', '14/18', '49', '12/18', '12/17', '12/16', '11/16', '43/113', '14/19', '13/18', '43/102', '43', '15/20', '33', '32', '15/21', '14/21', '20/59', '124', '10', '17/24', '17/23', '28/63', '37', '35', '40', '51', '44', '48', '34', '9/13', '26/70', '26/60', '26/63']\n",
      "\n",
      "\n",
      "Column hwy_mpg has 62 unique values. The values are as follows:\n",
      "\n",
      "['28', '27', '33', '32', '30', '29', '34', '24', '31', '35', '37', '25', '19', '14', '34/78', '31/75', '31/68', '29/68', '26', '22', '20', '23', '21', '15', '18', '40', '47', '52', '38', '45', '48', '39', '20/28', '36', '43', '16/24', '15/22', '17/23', '16/22', '42/99', '22/30', '20/27', '18/25', '16', '17', '41/91', '41', '19/27', '42', '21/28', '21/61', '93', '24/32', '23/31', '17/22', '27/66', '53', '13/17', '12/17', '33/72', '28/58', '30/61']\n",
      "\n",
      "\n",
      "Column cmb_mpg has 57 unique values. The values are as follows:\n",
      "\n",
      "['23', '22', '27', '24', '28', '20', '26', '29', '25', '31', '21', '15', '11', '30/71', '29/72', '28/67', '19', '27/64', '16', '17', '30', '18', '32', '33', '37', '35', '16/22', '46', '14/20', '13/19', '14/19', '12/18', '13/18', '42/106', '17/23', '16/21', '13', '42/97', '42', '34', '36', '18/25', '20/60', '108', '12', '20/27', '19/26', '27/65', '39', '14', '40', '52', '10/14', '10/15', '29/71', '26/59', '27/62']\n",
      "\n"
     ]
    },
    {
     "name": "stdout",
     "output_type": "stream",
     "text": [
      "\n",
      "Column greenhouse_gas_score has 10 unique values. The values are as follows:\n",
      "\n",
      "[5, 4, 6, 7, 2, 1, 10, 3, 9, 8]\n",
      "\n",
      "\n",
      "Column smartway has 3 unique values. The values are as follows:\n",
      "\n",
      "['No', 'Yes', 'Elite']\n",
      "\n",
      "\n",
      "Column comb_co2 has 299 unique values. The values are as follows:\n",
      "\n",
      "['386', '402', '330', '368', '369', '387', '382', '317', '451', '348', '364', '303', '359', '315', '327', '284', '311', '347', '378', '397', '380', '363', '415', '419', '399', '374', '384', '434', '336', '395', '358', '350', '596', '840', '324', '360', '318', '333', '325', '326', '323', '332', '189', '389', '390', '352', '357', '343', '351', '372', '193', '200', '367', '396', '449', '463', '214', '430', '411', '362', '365', '401', '450', '439', '481', '454', '553', '522', '571', '337', '349', '429', '298', '319', '335', '306', '388', '376', '398', '474', '469', '424', '416', '488', '530', '517', '533', '405', '423', '379', '354', '437', '559', '457', '582', '442', '406', '403', '413', '440', '589', '506', '532', '503', '466', '541', '487', '277', '267', '276', '274', '285', '278', '291', '290', '269', '287', '314', '355', '394/409', '404', '292', '194', '344', '457/448', '476/473', '455/475', '476', '523', '491', '447', '495', '490', '524', '280', '296', '443/468', '468', '516/483', '504', '482/497', '497', '444', '51', '376/389', '399/415', '494', '486', '546', '567', '414', '427', '525', '584', '420', '440/456', '470', '501', '661', '478', '356', '410', '426', '493', '485', '385', '112', '211', '388/404', '375/392', '392', '453', '445', '448', '482', '477/474', '456/475', '475', '489', '316', '339', '548', '259', '246', '282', '289', '256', '305', '301', '281', '338', '272', '433', '425', '342', '308', '408', '321', '464', '446', '500', '407', '312', '299', '383', '377', '351/361', '361', '372/378', '412', '432', '592', '151', '279', '353', '286', '310', '443', '436', '465', '320', '334', '0', '400', '731', '751', '459', '597', '467', '460', '471', '572', '577', '557', '283', '293', '391', '394', '393', '458', '441', '496', '438', '586', '591', '324/328', '328', '366', '418', '322', '330/337', '375', '429/457', '477', '556', '455', '341', '294', '346', '223', '373', '225', '242', '237', '249', '555', '587', '260', '370', '371', '428', '452', '461', '614', '513', '527', '331', '479', '264', '170', '195', '345', '271', '263', '297', '595', '275', '607', '594/614', '554', '568', '615', '623/604', '302', '304', '340', '161', '199', '187']\n",
      "\n",
      "\n"
     ]
    }
   ],
   "source": [
    "for c in df_18.columns:\n",
    "    column = c\n",
    "    print('Column {} has {} unique values. The values are as follows:\\n\\n{}\\n\\n'.format(c, df_18[column].nunique(),list(df_18[column].dropna().unique()) ))"
   ]
  },
  {
   "cell_type": "markdown",
   "metadata": {},
   "source": [
    "**Important Point**<br>\n",
    "Use of ```dropna()```in the code below is to make sure Nan is not listed as a unique value.<br>\n",
    "``` df_18[column].dropna().unique()```"
   ]
  },
  {
   "cell_type": "markdown",
   "metadata": {},
   "source": [
    "## Cleaning Data"
   ]
  },
  {
   "cell_type": "markdown",
   "metadata": {},
   "source": [
    "**Drop extraneous columns**<br>\n",
    "Drop features that aren't consistent (not present in both datasets) or aren't relevant to our questions.<br>\n",
    "\n",
    "Columns to Drop:<br>\n",
    "From 2008 dataset: ```'Stnd', 'Underhood ID', 'FE Calc Appr', 'Unadj Cmb MPG'```<br>\n",
    "From 2018 dataset: ```'Stnd', 'Stnd Description', 'Underhood ID', 'Comb CO2'```<br>"
   ]
  },
  {
   "cell_type": "code",
   "execution_count": 15,
   "metadata": {},
   "outputs": [],
   "source": [
    "df_08.drop(['stnd', 'underhood_id', 'fe_calc_appr', 'unadj_cmb_mpg'], axis = 1, inplace = True)"
   ]
  },
  {
   "cell_type": "code",
   "execution_count": 16,
   "metadata": {},
   "outputs": [],
   "source": [
    "df_18.drop(['stnd', 'underhood_id', 'comb_co2', 'stnd_description'], axis = 1,inplace = True)"
   ]
  },
  {
   "cell_type": "markdown",
   "metadata": {},
   "source": [
    "**Rename Columns**<br>\n",
    "Change the \"sales_area\" column label in the 2008 dataset to \"cert_region\" for consistency."
   ]
  },
  {
   "cell_type": "code",
   "execution_count": 17,
   "metadata": {},
   "outputs": [],
   "source": [
    "df_08.rename(columns = {'sales_area': 'cert_region'}, inplace = True)"
   ]
  },
  {
   "cell_type": "code",
   "execution_count": 18,
   "metadata": {},
   "outputs": [
    {
     "data": {
      "text/plain": [
       "array([ True,  True,  True,  True,  True,  True,  True,  True,  True,\n",
       "        True,  True,  True,  True,  True])"
      ]
     },
     "execution_count": 18,
     "metadata": {},
     "output_type": "execute_result"
    }
   ],
   "source": [
    "# confirm column labels for 2008 and 2018 datasets are identical\n",
    "df_08.columns == df_18.columns\n"
   ]
  },
  {
   "cell_type": "markdown",
   "metadata": {},
   "source": [
    "**Tip**<br>\n",
    "```(df_08.columns == df_18.columns).all()``` will confirm column labels are identical and will return ```True```"
   ]
  },
  {
   "cell_type": "markdown",
   "metadata": {},
   "source": [
    "**Filter**<br>\n",
    "For consistency, only compare cars certified by California standards. Filter both datasets to select only rows where cert_region is CA. Then, drop the cert_region columns, since it will no longer provide any useful information (we'll know every value is 'CA')."
   ]
  },
  {
   "cell_type": "code",
   "execution_count": 19,
   "metadata": {},
   "outputs": [],
   "source": [
    "df_08 = df_08.query('cert_region == \"CA\"')\n",
    "df_18 = df_18.query('cert_region == \"CA\"')\n",
    "df_08.drop('cert_region', axis = 1, inplace = True)\n",
    "df_18.drop('cert_region', axis = 1, inplace = True)"
   ]
  },
  {
   "cell_type": "markdown",
   "metadata": {},
   "source": [
    "**Drop Nulls**<br>\n",
    "Drop any rows in both datasets that contain missing values."
   ]
  },
  {
   "cell_type": "code",
   "execution_count": 20,
   "metadata": {},
   "outputs": [
    {
     "data": {
      "text/plain": [
       "model                    0\n",
       "displ                    0\n",
       "cyl                     75\n",
       "trans                   75\n",
       "drive                   37\n",
       "fuel                     0\n",
       "veh_class                0\n",
       "air_pollution_score      0\n",
       "city_mpg                75\n",
       "hwy_mpg                 75\n",
       "cmb_mpg                 75\n",
       "greenhouse_gas_score    75\n",
       "smartway                 0\n",
       "dtype: int64"
      ]
     },
     "execution_count": 20,
     "metadata": {},
     "output_type": "execute_result"
    }
   ],
   "source": [
    "#Missing value count for 2008 dataset\n",
    "df_08.isna().sum()"
   ]
  },
  {
   "cell_type": "code",
   "execution_count": 21,
   "metadata": {},
   "outputs": [],
   "source": [
    "df_08.dropna(axis = 0, inplace = True)"
   ]
  },
  {
   "cell_type": "code",
   "execution_count": 22,
   "metadata": {},
   "outputs": [
    {
     "data": {
      "text/plain": [
       "0"
      ]
     },
     "execution_count": 22,
     "metadata": {},
     "output_type": "execute_result"
    }
   ],
   "source": [
    "# Checks if any of columns in 2008 have null values\n",
    "df_08.isna().any().sum()"
   ]
  },
  {
   "cell_type": "code",
   "execution_count": 23,
   "metadata": {},
   "outputs": [
    {
     "data": {
      "text/plain": [
       "model                   0\n",
       "displ                   1\n",
       "cyl                     1\n",
       "trans                   0\n",
       "drive                   0\n",
       "fuel                    0\n",
       "veh_class               0\n",
       "air_pollution_score     0\n",
       "city_mpg                0\n",
       "hwy_mpg                 0\n",
       "cmb_mpg                 0\n",
       "greenhouse_gas_score    0\n",
       "smartway                0\n",
       "dtype: int64"
      ]
     },
     "execution_count": 23,
     "metadata": {},
     "output_type": "execute_result"
    }
   ],
   "source": [
    "#Check if there are any missing values in 2018 dataset\n",
    "df_18.isna().sum()"
   ]
  },
  {
   "cell_type": "code",
   "execution_count": 24,
   "metadata": {},
   "outputs": [],
   "source": [
    "df_18.dropna(axis = 0, inplace = True)"
   ]
  },
  {
   "cell_type": "markdown",
   "metadata": {},
   "source": [
    "**Drop Duplicates**"
   ]
  },
  {
   "cell_type": "code",
   "execution_count": 25,
   "metadata": {},
   "outputs": [],
   "source": [
    "df_08.drop_duplicates(inplace = True)\n",
    "df_18.drop_duplicates(inplace = True)"
   ]
  },
  {
   "cell_type": "code",
   "execution_count": 26,
   "metadata": {},
   "outputs": [
    {
     "data": {
      "text/plain": [
       "(0, 0)"
      ]
     },
     "execution_count": 26,
     "metadata": {},
     "output_type": "execute_result"
    }
   ],
   "source": [
    "#Check if there are any duplicate records in datasets\n",
    "df_08.duplicated().sum(), df_18.duplicated().sum()"
   ]
  },
  {
   "cell_type": "code",
   "execution_count": 27,
   "metadata": {},
   "outputs": [],
   "source": [
    "df_08.to_csv('../../Datasets/data08_v2.csv')\n",
    "df_18.to_csv('../../Datasets/data18_v2.csv')"
   ]
  },
  {
   "cell_type": "markdown",
   "metadata": {},
   "source": [
    "## Fixing Data Types\n",
    "**Inspect the datatypes of features in each dataset and make changes to make them practical and consistent (in both datasets).** "
   ]
  },
  {
   "cell_type": "markdown",
   "metadata": {},
   "source": [
    "### Columns ```cyl```\n",
    "**This is how the data looks**"
   ]
  },
  {
   "cell_type": "code",
   "execution_count": 28,
   "metadata": {},
   "outputs": [
    {
     "data": {
      "text/plain": [
       "(dtype('O'), dtype('float64'))"
      ]
     },
     "execution_count": 28,
     "metadata": {},
     "output_type": "execute_result"
    }
   ],
   "source": [
    "df_08.cyl.dtype, df_18.cyl.dtype"
   ]
  },
  {
   "cell_type": "code",
   "execution_count": 29,
   "metadata": {},
   "outputs": [
    {
     "data": {
      "text/plain": [
       "(array(['(6 cyl)', '(4 cyl)', '(12 cyl)', '(8 cyl)', '(10 cyl)',\n",
       "        '(16 cyl)', '(5 cyl)', '(2 cyl)'], dtype=object),\n",
       " array([ 6.,  4.,  5., 12., 16.,  8.,  3.]))"
      ]
     },
     "execution_count": 29,
     "metadata": {},
     "output_type": "execute_result"
    }
   ],
   "source": [
    "df_08.cyl.unique(), df_18.cyl.unique()"
   ]
  },
  {
   "cell_type": "markdown",
   "metadata": {},
   "source": [
    "**Number of cylinders should be converted to  ``` int ``` in both datasets.**"
   ]
  },
  {
   "cell_type": "code",
   "execution_count": 30,
   "metadata": {},
   "outputs": [],
   "source": [
    "df_08.cyl = df_08.cyl.str.extract('(\\d+)').astype(int)"
   ]
  },
  {
   "cell_type": "code",
   "execution_count": 31,
   "metadata": {},
   "outputs": [
    {
     "data": {
      "text/plain": [
       "0       6\n",
       "2       4\n",
       "4       6\n",
       "6       6\n",
       "7       6\n",
       "       ..\n",
       "2394    6\n",
       "2396    6\n",
       "2398    6\n",
       "2399    6\n",
       "2400    8\n",
       "Name: cyl, Length: 986, dtype: int64"
      ]
     },
     "execution_count": 31,
     "metadata": {},
     "output_type": "execute_result"
    }
   ],
   "source": [
    "df_08.cyl"
   ]
  },
  {
   "cell_type": "markdown",
   "metadata": {},
   "source": [
    "**Important point**<br>\n",
    "```Series.str``` can be used to access the values of the series as strings and apply several methods to it.<br>\n",
    "\n",
    "**```extract()```**<br>\n",
    "This function is used to extract capture groups/patterns.<br>\n",
    "**```\\d+```** is the pattern required to find digits. This should be followed with a ```+``` so that the previous element is matched one or more times. This ensures that 10 is viewed as one number and not as 1 and 0.\n",
    "\n",
    "**TIP**<br>\n",
    "Same output can be achived by using **```re.findall()```** as follows:<br>\n",
    "``` import re\n",
    "df_08.cyl = df_08.cyl.apply(lambda s: re.findall('\\d+',s[0]))\n",
    "df_08.cyl = df_08.cyl.apply(lambda s: int(s)) ``` <br><br> \n",
    "however the code is not as clean. \n",
    "\n"
   ]
  },
  {
   "cell_type": "code",
   "execution_count": 32,
   "metadata": {},
   "outputs": [],
   "source": [
    "df_18.cyl = df_18.cyl.astype(int)"
   ]
  },
  {
   "cell_type": "code",
   "execution_count": 33,
   "metadata": {},
   "outputs": [],
   "source": [
    "df_08.to_csv('../../Datasets/data08_v3.csv')\n",
    "df_18.to_csv('../../Datasets/data18_v3.csv')"
   ]
  },
  {
   "cell_type": "markdown",
   "metadata": {},
   "source": [
    "### Columns ```air_pollution_score``` , ```city_mpg```, ```hwy_mpg```, ```cmb_mpg``` and ```greenhouse_gas_score```"
   ]
  },
  {
   "cell_type": "markdown",
   "metadata": {},
   "source": [
    "**This is how the data for ```air_pollution_score``` looks like**"
   ]
  },
  {
   "cell_type": "code",
   "execution_count": 34,
   "metadata": {},
   "outputs": [
    {
     "data": {
      "text/plain": [
       "(array(['7', '6', '9.5', '9', '6/4'], dtype=object), array([3, 1, 7, 5, 6]))"
      ]
     },
     "execution_count": 34,
     "metadata": {},
     "output_type": "execute_result"
    }
   ],
   "source": [
    "df_08.air_pollution_score.unique(),df_18.air_pollution_score.unique()"
   ]
  },
  {
   "cell_type": "code",
   "execution_count": 35,
   "metadata": {},
   "outputs": [
    {
     "data": {
      "text/plain": [
       "(dtype('O'), dtype('int64'))"
      ]
     },
     "execution_count": 35,
     "metadata": {},
     "output_type": "execute_result"
    }
   ],
   "source": [
    "df_08.air_pollution_score.dtype , df_18.air_pollution_score.dtype"
   ]
  },
  {
   "cell_type": "markdown",
   "metadata": {},
   "source": [
    "**Datatype should be converted to ```float```in both datasets**<br>\n",
    "**Important point**<br>\n",
    "As can be seen in values for ``àir_pllution_score``in ```2008 dataset``` we have to deal with entries such as ```6/4```. The reason that such entries exist:<br><br>\n",
    "\"If a vehicle can operate on more than one type of fuel, an estimate is provided for each fuel type.\"<br><br>\n",
    "```mpg``` columns and ```greenhouse_gas_score``` columns also seem to have the same problem -  that's why these were all saved as strings! <br>"
   ]
  },
  {
   "cell_type": "markdown",
   "metadata": {},
   "source": [
    "**Let's have a look at ```fuel```column, since that's the source of problem.**"
   ]
  },
  {
   "cell_type": "code",
   "execution_count": 36,
   "metadata": {},
   "outputs": [
    {
     "data": {
      "text/plain": [
       "(array(['Gasoline', 'CNG', 'ethanol/gas'], dtype=object),\n",
       " array(['Gasoline', 'Gasoline/Electricity', 'Diesel', 'Ethanol/Gas'],\n",
       "       dtype=object))"
      ]
     },
     "execution_count": 36,
     "metadata": {},
     "output_type": "execute_result"
    }
   ],
   "source": [
    "df_08.fuel.unique() , df_18.fuel.unique()"
   ]
  },
  {
   "cell_type": "markdown",
   "metadata": {},
   "source": [
    "For every row where the car is a hybrid (2 sources of fuel) in ```mpg``` columns, ```air_pollution_scor``` and ```greenhouse_gas_score``` columns will have the same data entry structure with ```/```separating two values. Therefore, we devide each row for a hybrid car into two separate rows each holding one of the values for all the columns mentioned."
   ]
  },
  {
   "cell_type": "code",
   "execution_count": 37,
   "metadata": {},
   "outputs": [],
   "source": [
    "split_columns_08 = ['fuel', 'air_pollution_score', 'city_mpg', 'hwy_mpg', 'cmb_mpg', 'greenhouse_gas_score']\n",
    "#devide data into two DataFrames each containig the value before and after '/'\n",
    "for column in split_columns_08:\n",
    "    hb_08 = df_08[df_08[column].str.contains('/')]\n",
    "    hb_08_01 = hb_08.copy()\n",
    "    hb_08_02 = hb_08.copy()\n",
    "    hb_08_01[column] = hb_08_01[column].apply(lambda f: f.split('/')[0])\n",
    "    hb_08_02[column] = hb_08_02[column].apply(lambda f: f.split('/')[1])\n",
    "    hb_08 = hb_08_01.append(hb_08_02)\n",
    "    df_08.drop(hb_08.index, inplace = True)\n",
    "    df_08 = df_08.append(hb_08, ignore_index = True)\n",
    " "
   ]
  },
  {
   "cell_type": "markdown",
   "metadata": {},
   "source": [
    "**Important point**<br>\n",
    "Use **```copy()```** make a copy of dataframe. Otherwise the changes are applied to a view of a DataFrame and warnings will be triggered."
   ]
  },
  {
   "cell_type": "code",
   "execution_count": 38,
   "metadata": {},
   "outputs": [
    {
     "name": "stdout",
     "output_type": "stream",
     "text": [
      "number of values in column fuel containing '/': 0\n",
      "number of values in column air_pollution_score containing '/': 0\n",
      "number of values in column city_mpg containing '/': 0\n",
      "number of values in column hwy_mpg containing '/': 0\n",
      "number of values in column cmb_mpg containing '/': 0\n",
      "number of values in column greenhouse_gas_score containing '/': 0\n"
     ]
    }
   ],
   "source": [
    "for column in split_columns_08:\n",
    "    print(\"number of values in column {} containing '/': {}\".format(column,df_08[column].str.contains('/').sum()))\n"
   ]
  },
  {
   "cell_type": "code",
   "execution_count": null,
   "metadata": {},
   "outputs": [],
   "source": []
  },
  {
   "cell_type": "code",
   "execution_count": 39,
   "metadata": {},
   "outputs": [],
   "source": [
    "split_columns_18 = ['fuel','city_mpg','hwy_mpg','cmb_mpg']\n",
    "#devide data into two DataFrames each containig the value before and after '/'\n",
    "for column in split_columns_18:\n",
    "    hb_18 = df_18[df_18[column].str.contains('/')]\n",
    "    hb_18_01 = hb_18.copy()\n",
    "    hb_18_02 = hb_18.copy()\n",
    "    hb_18_01[column] = hb_18_01[column].apply(lambda f: f.split('/')[0])\n",
    "    hb_18_02[column] = hb_18_02[column].apply(lambda f: f.split('/')[1])\n",
    "    hb_18 = hb_18_01.append(hb_18_02)\n",
    "    df_18.drop(hb_18.index, inplace = True)\n",
    "    df_18 = df_18.append(hb_18, ignore_index = True)"
   ]
  },
  {
   "cell_type": "code",
   "execution_count": 40,
   "metadata": {},
   "outputs": [
    {
     "name": "stdout",
     "output_type": "stream",
     "text": [
      "number of values in column fuel containing '/': 0\n",
      "number of values in column city_mpg containing '/': 0\n",
      "number of values in column hwy_mpg containing '/': 0\n",
      "number of values in column cmb_mpg containing '/': 0\n"
     ]
    }
   ],
   "source": [
    "for column in split_columns_18:\n",
    "    print(\"number of values in column {} containing '/': {}\".format(column,df_18[column].str.contains('/').sum()))"
   ]
  },
  {
   "cell_type": "code",
   "execution_count": 41,
   "metadata": {},
   "outputs": [],
   "source": [
    "df_08.air_pollution_score = df_08.air_pollution_score.astype(float)\n",
    "df_18.air_pollution_score = df_18.air_pollution_score.astype(float)"
   ]
  },
  {
   "cell_type": "code",
   "execution_count": 42,
   "metadata": {},
   "outputs": [],
   "source": [
    "df_08.to_csv('../../Datasets/data08_v4.csv')\n",
    "df_18.to_csv('../../Datasets/data18_v4.csv')"
   ]
  },
  {
   "cell_type": "markdown",
   "metadata": {},
   "source": [
    "### Columns ```city_mpg```, ```hwy_mpg```, ```cmb_mpg```\n",
    "**Convert string to float for both datasets**"
   ]
  },
  {
   "cell_type": "code",
   "execution_count": 43,
   "metadata": {},
   "outputs": [],
   "source": [
    "columns_to_fix = ['city_mpg', 'hwy_mpg', 'cmb_mpg']\n",
    "for column in columns_to_fix:\n",
    "    df_08[column] = df_08[column].astype(float)\n",
    "    df_18[column] = df_18[column].astype(float)"
   ]
  },
  {
   "cell_type": "markdown",
   "metadata": {},
   "source": [
    "### Column ```greenhouse_gas_score```\n",
    "**Convert the datatype from float to int in 2008 dataset**"
   ]
  },
  {
   "cell_type": "code",
   "execution_count": 44,
   "metadata": {},
   "outputs": [],
   "source": [
    "df_08.greenhouse_gas_score = df_08.greenhouse_gas_score.astype(int)"
   ]
  },
  {
   "cell_type": "code",
   "execution_count": 45,
   "metadata": {},
   "outputs": [
    {
     "name": "stdout",
     "output_type": "stream",
     "text": [
      "<class 'pandas.core.frame.DataFrame'>\n",
      "RangeIndex: 1049 entries, 0 to 1048\n",
      "Data columns (total 13 columns):\n",
      " #   Column                Non-Null Count  Dtype  \n",
      "---  ------                --------------  -----  \n",
      " 0   model                 1049 non-null   object \n",
      " 1   displ                 1049 non-null   float64\n",
      " 2   cyl                   1049 non-null   int64  \n",
      " 3   trans                 1049 non-null   object \n",
      " 4   drive                 1049 non-null   object \n",
      " 5   fuel                  1049 non-null   object \n",
      " 6   veh_class             1049 non-null   object \n",
      " 7   air_pollution_score   1049 non-null   float64\n",
      " 8   city_mpg              1049 non-null   float64\n",
      " 9   hwy_mpg               1049 non-null   float64\n",
      " 10  cmb_mpg               1049 non-null   float64\n",
      " 11  greenhouse_gas_score  1049 non-null   int64  \n",
      " 12  smartway              1049 non-null   object \n",
      "dtypes: float64(5), int64(2), object(6)\n",
      "memory usage: 106.7+ KB\n"
     ]
    }
   ],
   "source": [
    "df_08.info()"
   ]
  },
  {
   "cell_type": "code",
   "execution_count": 46,
   "metadata": {},
   "outputs": [
    {
     "name": "stdout",
     "output_type": "stream",
     "text": [
      "<class 'pandas.core.frame.DataFrame'>\n",
      "RangeIndex: 1364 entries, 0 to 1363\n",
      "Data columns (total 13 columns):\n",
      " #   Column                Non-Null Count  Dtype  \n",
      "---  ------                --------------  -----  \n",
      " 0   model                 1364 non-null   object \n",
      " 1   displ                 1364 non-null   float64\n",
      " 2   cyl                   1364 non-null   int64  \n",
      " 3   trans                 1364 non-null   object \n",
      " 4   drive                 1364 non-null   object \n",
      " 5   fuel                  1364 non-null   object \n",
      " 6   veh_class             1364 non-null   object \n",
      " 7   air_pollution_score   1364 non-null   float64\n",
      " 8   city_mpg              1364 non-null   float64\n",
      " 9   hwy_mpg               1364 non-null   float64\n",
      " 10  cmb_mpg               1364 non-null   float64\n",
      " 11  greenhouse_gas_score  1364 non-null   int64  \n",
      " 12  smartway              1364 non-null   object \n",
      "dtypes: float64(5), int64(2), object(6)\n",
      "memory usage: 138.7+ KB\n"
     ]
    }
   ],
   "source": [
    "df_18.info()"
   ]
  },
  {
   "cell_type": "code",
   "execution_count": 47,
   "metadata": {},
   "outputs": [],
   "source": [
    "df_08.fuel = df_08.fuel.apply(lambda f : f.title())"
   ]
  },
  {
   "cell_type": "code",
   "execution_count": 48,
   "metadata": {},
   "outputs": [],
   "source": [
    "df_08.to_csv('../../Datasets/clean_data08.csv', index = False)\n",
    "df_18.to_csv('../../Datasets/clean_data18.csv',index = False)"
   ]
  },
  {
   "cell_type": "markdown",
   "metadata": {},
   "source": [
    "## Exploring with visuals"
   ]
  },
  {
   "cell_type": "code",
   "execution_count": 49,
   "metadata": {},
   "outputs": [],
   "source": [
    "import matplotlib.pyplot as plt\n",
    "import seaborn as sns\n",
    "%matplotlib inline\n",
    "\n",
    "df_08 = pd.read_csv('../../Datasets/clean_data08.csv')\n",
    "df_18 = pd.read_csv('../../Datasets/clean_data18.csv')"
   ]
  },
  {
   "cell_type": "markdown",
   "metadata": {},
   "source": [
    "### Compare the distributions of ```greenhouse_gas_score``` in 2008 and 2018."
   ]
  },
  {
   "cell_type": "code",
   "execution_count": 50,
   "metadata": {},
   "outputs": [],
   "source": [
    "sns.set_style('darkgrid')"
   ]
  },
  {
   "cell_type": "markdown",
   "metadata": {},
   "source": [
    "### TIP\n",
    "Great guide on how to Create multiple subplots [here](https://matplotlib.org/3.1.0/gallery/subplots_axes_and_figures/subplots_demo.html) and [here](https://stackoverflow.com/questions/6963035/pyplot-axes-labels-for-subplots)"
   ]
  },
  {
   "cell_type": "code",
   "execution_count": 51,
   "metadata": {},
   "outputs": [
    {
     "data": {
      "image/png": "[encoded data removed]",
      "text/plain": [
       "<Figure size 432x288 with 2 Axes>"
      ]
     },
     "metadata": {},
     "output_type": "display_data"
    }
   ],
   "source": [
    "fig, axes = plt.subplots(2, sharex = True, sharey = True)\n",
    "fig.suptitle('Greenhouse gas score distribution', size = 15)\n",
    "axes[0].hist(df_08.greenhouse_gas_score)\n",
    "axes[1].hist(df_18.greenhouse_gas_score,facecolor = 'green');\n",
    "axes[1].set(xlabel = 'Greenhouse gas score');"
   ]
  },
  {
   "cell_type": "markdown",
   "metadata": {},
   "source": [
    "**How has the distribution of combined mpg (```cmb_mpg```) changed from 2008 to 2018?**"
   ]
  },
  {
   "cell_type": "code",
   "execution_count": 52,
   "metadata": {},
   "outputs": [
    {
     "data": {
      "image/png": "[encoded data removed]",
      "text/plain": [
       "<Figure size 432x288 with 2 Axes>"
      ]
     },
     "metadata": {},
     "output_type": "display_data"
    }
   ],
   "source": [
    "fig, axes = plt.subplots(2, sharex = True, sharey = True)\n",
    "fig.suptitle('Combined mpg 2008 vs. 2018', size = 15)\n",
    "axes[0].hist(df_08.cmb_mpg)\n",
    "axes[1].hist(df_18.cmb_mpg, facecolor = 'green')\n",
    "axes[1].set(xlabel = 'Combined mpg');"
   ]
  },
  {
   "cell_type": "markdown",
   "metadata": {},
   "source": [
    "**Describe the correlation between displacement (```displ```) and combined mpg(```cmb_mpg```).**"
   ]
  },
  {
   "cell_type": "code",
   "execution_count": 53,
   "metadata": {},
   "outputs": [
    {
     "data": {
      "image/png": "[encoded data removed]",
      "text/plain": [
       "<Figure size 432x288 with 2 Axes>"
      ]
     },
     "metadata": {},
     "output_type": "display_data"
    }
   ],
   "source": [
    "fig, (y08,y18) = plt.subplots(2, sharex = True, sharey = True)\n",
    "y08.scatter(df_08.displ,df_08.cmb_mpg)\n",
    "y18.scatter(df_18.displ,df_18.cmb_mpg, facecolor = 'green')\n",
    "fig.suptitle('Correlation between displacement and combined mpg 2008 vs. 2018');\n",
    "y08.set(ylabel = 'combined mpg')\n",
    "plt.xlabel('Displacement', size = 14)\n",
    "y18.set(ylabel = 'Combined mpg');"
   ]
  },
  {
   "cell_type": "markdown",
   "metadata": {},
   "source": [
    "**Describe the correlation between greenhouse gas score and combined mpg.**"
   ]
  },
  {
   "cell_type": "code",
   "execution_count": 54,
   "metadata": {},
   "outputs": [
    {
     "data": {
      "image/png": "[encoded data removed]",
      "text/plain": [
       "<Figure size 432x288 with 2 Axes>"
      ]
     },
     "metadata": {},
     "output_type": "display_data"
    }
   ],
   "source": [
    "fig, (y08,y18) = plt.subplots(2, sharex = True, sharey = True)\n",
    "y08.scatter(df_08.greenhouse_gas_score,df_08.cmb_mpg)\n",
    "y18.scatter(df_18.greenhouse_gas_score,df_18.cmb_mpg, facecolor = 'green')\n",
    "fig.suptitle('Correlation between greenhouse gas score and combined mpg 2008 vs. 2018');\n",
    "y08.set(ylabel = 'combined mpg')\n",
    "plt.xlabel('Greenhouse gas score', size = 14)\n",
    "y18.set(ylabel = 'Combined mpg');"
   ]
  },
  {
   "cell_type": "markdown",
   "metadata": {},
   "source": [
    "## Conclusions & Visuals"
   ]
  },
  {
   "cell_type": "markdown",
   "metadata": {},
   "source": [
    "**Are more unique models using alternative fuels in 2018 compared to 2008? By how much?**"
   ]
  },
  {
   "cell_type": "code",
   "execution_count": 55,
   "metadata": {},
   "outputs": [
    {
     "data": {
      "text/plain": [
       "(array(['Gasoline', 'Cng', 'Ethanol', 'Gas'], dtype=object),\n",
       " array(['Gasoline', 'Diesel', 'Ethanol', 'Electricity', 'Gas'],\n",
       "       dtype=object))"
      ]
     },
     "execution_count": 55,
     "metadata": {},
     "output_type": "execute_result"
    }
   ],
   "source": [
    "df_08.fuel.unique(), df_18.fuel.unique()"
   ]
  },
  {
   "cell_type": "code",
   "execution_count": 56,
   "metadata": {},
   "outputs": [],
   "source": [
    "unique_models_alt_fuel_08 = df_08.query('fuel in [\"Ethanol\",\"Cng\"]').model.nunique()"
   ]
  },
  {
   "cell_type": "code",
   "execution_count": 57,
   "metadata": {},
   "outputs": [],
   "source": [
    "unique_models_alt_fuel_18 = df_18.query('fuel in [\"Ethanol\",\"Electricity\"]').model.nunique()"
   ]
  },
  {
   "cell_type": "code",
   "execution_count": 58,
   "metadata": {},
   "outputs": [
    {
     "data": {
      "image/png": "[encoded data removed]",
      "text/plain": [
       "<Figure size 432x288 with 1 Axes>"
      ]
     },
     "metadata": {},
     "output_type": "display_data"
    }
   ],
   "source": [
    "x_locations = [1,2]\n",
    "years = ['2008', '2018']\n",
    "model_counts = [unique_models_alt_fuel_08, unique_models_alt_fuel_18]\n",
    "plt.bar(x_locations, model_counts,  )\n",
    "plt.xlabel('Year', size = 12)\n",
    "plt.ylabel('Number of unique models', size = 12)\n",
    "plt.xticks(x_locations, years)\n",
    "plt.title('Number of Unique Models Using Alternative Fuel 2008 vs 2018', size = 15)\n",
    "for i in range(len(x_locations)):\n",
    "    plt.text(x_locations[i],model_counts[i], s = str(model_counts[i]), horizontalalignment = 'center');"
   ]
  },
  {
   "cell_type": "markdown",
   "metadata": {},
   "source": [
    "**How has the number of unique models using each alternative fuel changed from 2008 to 2018?**"
   ]
  },
  {
   "cell_type": "code",
   "execution_count": 59,
   "metadata": {},
   "outputs": [],
   "source": [
    "alternative_fuel = [\"Ethanol\",\"Cng\",\"Electricity\"]\n",
    "count_unique_model_per_fuel_type08 = df_08.query('fuel in {}'.format(alternative_fuel)).groupby('fuel').model.nunique()\n",
    "count_unique_model_per_fuel_type18 = df_18.query('fuel in {}'.format(alternative_fuel)).groupby('fuel').model.nunique()"
   ]
  },
  {
   "cell_type": "code",
   "execution_count": 110,
   "metadata": {
    "scrolled": true
   },
   "outputs": [
    {
     "data": {
      "image/png": "[encoded data removed]",
      "text/plain": [
       "<Figure size 432x288 with 1 Axes>"
      ]
     },
     "metadata": {},
     "output_type": "display_data"
    }
   ],
   "source": [
    "x_location = np.arange(3)+1\n",
    "bar_heights08 = count_unique_model_per_fuel_type08\n",
    "bar_heights08['Electricity'] = 0\n",
    "bar_heights18 = count_unique_model_per_fuel_type18\n",
    "bar_heights18['Cng'] = 0\n",
    "barwidth = 0.25\n",
    "xticks_labels = [\"Ethanol\",\"CNG\",\"Electricity\"]\n",
    "plt.bar(x_location,bar_heights08, width = barwidth, label = '2008', color = 'blue')\n",
    "plt.bar([x_location[0]+barwidth,x_location[2]+barwidth,x_location[1]+barwidth],bar_heights18, width = barwidth, label = '2018', color = 'green')\n",
    "plt.xticks(x_location+barwidth/2, xticks_labels)\n",
    "plt.title(\"Number of Unique Models per Alternative Fuel 2008 vs 2018\")\n",
    "plt.xlabel('Alternative Fuel')\n",
    "plt.ylabel('Number of Unique Models');"
   ]
  },
  {
   "cell_type": "markdown",
   "metadata": {},
   "source": [
    "**How much have vehicle classes improved in fuel economy (increased in mpg)?**"
   ]
  },
  {
   "cell_type": "code",
   "execution_count": 201,
   "metadata": {},
   "outputs": [
    {
     "data": {
      "image/png": "[encoded data removed]",
      "text/plain": [
       "<Figure size 1008x432 with 1 Axes>"
      ]
     },
     "metadata": {},
     "output_type": "display_data"
    }
   ],
   "source": [
    "avg_cmb_mpg_per_vehclass08 = df_08.groupby('veh_class').cmb_mpg.mean()\n",
    "avg_cmb_mpg_per_vehclass18 = df_18.groupby('veh_class').cmb_mpg.mean()\n",
    "veh_class08 = set(df_08.veh_class.unique())\n",
    "veh_class18 = set(df_18.veh_class.unique())\n",
    "veh_class_list = list(veh_class08 | veh_class18)\n",
    "veh_class_list.sort()\n",
    "\n",
    "plt.figure(figsize = (14,6))\n",
    "\n",
    "x_locations = np.arange(len(veh_class_list))\n",
    "bar_width = 0.35\n",
    "bar_heights08 = pd.Series(data = [], dtype = float)\n",
    "bar_heights18 = pd.Series(data = [], dtype = float)\n",
    "for vc in veh_class_list:\n",
    "    if vc in veh_class08:\n",
    "        bar_heights08[vc] = avg_cmb_mpg_per_vehclass08[vc]\n",
    "    else:\n",
    "        bar_heights08[vc] = 0.\n",
    "for vc in veh_class_list:\n",
    "    if vc in veh_class18:\n",
    "        bar_heights18[vc] = avg_cmb_mpg_per_vehclass18[vc]\n",
    "    else:\n",
    "        bar_heights18[vc] = 0.\n",
    "plt.bar(x_locations, bar_heights08, width = bar_width, label = '2008', color = 'blue')\n",
    "plt.bar(x_locations + bar_width , bar_heights18, width = bar_width, label = '2018', color = 'green')\n",
    "plt.xticks(x_locations+bar_width/2, veh_class_list, rotation = '90')\n",
    "plt.legend()\n",
    "plt.xlabel('Vehicle Class')\n",
    "plt.ylabel('Combined mpg');\n",
    "plt.title('Fuel Economy Improvement across Vehicle Classes 2008 vs. 2018');\n"
   ]
  },
  {
   "cell_type": "markdown",
   "metadata": {},
   "source": [
    "**What are the characteristics of SmartWay vehicles? Have they changed over time? (mpg, greenhouse gas)**"
   ]
  },
  {
   "cell_type": "code",
   "execution_count": 91,
   "metadata": {},
   "outputs": [
    {
     "data": {
      "text/plain": [
       "(array(['no', 'yes'], dtype=object),\n",
       " array(['No', 'Yes', 'Elite'], dtype=object))"
      ]
     },
     "execution_count": 91,
     "metadata": {},
     "output_type": "execute_result"
    }
   ],
   "source": [
    "df_08.smartway.unique(), df_18.smartway.unique(), "
   ]
  },
  {
   "cell_type": "code",
   "execution_count": 202,
   "metadata": {},
   "outputs": [
    {
     "data": {
      "image/png": "[encoded data removed]",
      "text/plain": [
       "<Figure size 1008x432 with 1 Axes>"
      ]
     },
     "metadata": {},
     "output_type": "display_data"
    }
   ],
   "source": [
    "dataset_avg08 = df_08.mean()\n",
    "smartway_avg08 = df_08.query('smartway ==\"yes\"').mean().copy()\n",
    "not_smartway_avg08 = df_08.query('smartway ==\"no\"').mean().copy()\n",
    "\n",
    "dataset_avg18 = df_18.mean()\n",
    "smartway_avg18 = df_18.query('smartway in [\"Yes\",\"Elite\"]').mean().copy()\n",
    "not_smartway_avg18 = df_18.query('smartway ==\"No\"').mean().copy()\n",
    "\n",
    "plt.figure(figsize = (14,6))\n",
    "\n",
    "x_loctions_1 = np.arange(len(dataset_avg08))\n",
    "x_loctions_2 = np.arange(len(dataset_avg18))\n",
    "\n",
    "bar_heights_dataset08 = dataset_avg08\n",
    "bar_heights_smartway08 = smartway_avg08\n",
    "bar_heights_not_smartway08 = not_smartway_avg08\n",
    "\n",
    "bar_heights_dataset18 = dataset_avg18\n",
    "bar_heights_smartway18 = smartway_avg18\n",
    "bar_heights_not_smartway18 = not_smartway_avg18\n",
    "\n",
    "bar_width = 0.30\n",
    "xticks_labels = dataset_avg08.index.str.replace('_',' ').str.title()\n",
    "\n",
    "plt.bar(x_loctions_1, bar_heights_not_smartway08, bar_width, label = 'Non-Smart Way Vehicles ', color = 'red') \n",
    "plt.bar(x_loctions_1+bar_width, bar_heights_dataset08, bar_width, label = \"Dataset's Average\", color = 'blue')\n",
    "plt.bar(x_loctions_1+2*bar_width, bar_heights_smartway08, bar_width, label = 'Smart Way Vehicles' , color = 'green')\n",
    "\n",
    "plt.bar(x_loctions_2, bar_heights_not_smartway18, bar_width,color = 'red', alpha = 0.4) \n",
    "plt.bar(x_loctions_2+bar_width, bar_heights_dataset18, bar_width, color = 'blue',alpha = 0.4)\n",
    "plt.bar(x_loctions_2+2*bar_width, bar_heights_smartway18, bar_width,color = 'green', alpha = 0.4)\n",
    "\n",
    "plt.xticks(x_loctions_1+1.5*bar_width,xticks_labels, rotation = '90')\n",
    "plt.xlabel('Characteristics')\n",
    "plt.ylabel('Average Value')\n",
    "plt.legend()\n",
    "plt.title('Characteristics of SmartWay Vehicles 2008 vs. 2018');"
   ]
  },
  {
   "cell_type": "code",
   "execution_count": null,
   "metadata": {},
   "outputs": [],
   "source": []
  },
  {
   "cell_type": "code",
   "execution_count": null,
   "metadata": {},
   "outputs": [],
   "source": []
  },
  {
   "cell_type": "code",
   "execution_count": null,
   "metadata": {},
   "outputs": [],
   "source": []
  },
  {
   "cell_type": "code",
   "execution_count": null,
   "metadata": {},
   "outputs": [],
   "source": []
  },
  {
   "cell_type": "code",
   "execution_count": null,
   "metadata": {},
   "outputs": [],
   "source": []
  }
 ],
 "metadata": {
  "kernelspec": {
   "display_name": "Python [conda env:Fuel_Economy_Analysis]",
   "language": "python",
   "name": "conda-env-Fuel_Economy_Analysis-py"
  },
  "language_info": {
   "codemirror_mode": {
    "name": "ipython",
    "version": 3
   },
   "file_extension": ".py",
   "mimetype": "text/x-python",
   "name": "python",
   "nbconvert_exporter": "python",
   "pygments_lexer": "ipython3",
   "version": "3.7.6"
  }
 },
 "nbformat": 4,
 "nbformat_minor": 2
}
